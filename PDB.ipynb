{
 "cells": [
  {
   "cell_type": "code",
   "execution_count": 1,
   "id": "87d07c7b",
   "metadata": {},
   "outputs": [],
   "source": [
    "from selenium import webdriver\n",
    "from selenium.webdriver.common.by import By\n",
    "import re\n",
    "import time\n",
    "from selenium.webdriver.support.ui import WebDriverWait\n",
    "from selenium.webdriver.support import expected_conditions as EC\n",
    "import numpy as np\n",
    "import pandas as pd\n",
    "# wait = WebDriverWait(driver, 10)"
   ]
  },
  {
   "cell_type": "code",
   "execution_count": 2,
   "id": "eb4e3324",
   "metadata": {},
   "outputs": [],
   "source": [
    "#dat = pd.read_csv('ectreeToExtract.csv', encoding=\"utf-8\")"
   ]
  },
  {
   "cell_type": "code",
   "execution_count": null,
   "id": "65cf9dd8",
   "metadata": {},
   "outputs": [],
   "source": []
  },
  {
   "cell_type": "code",
   "execution_count": 3,
   "id": "54678a97",
   "metadata": {},
   "outputs": [],
   "source": [
    "ectree_str = \"1.1.1.1\""
   ]
  },
  {
   "cell_type": "code",
   "execution_count": 4,
   "id": "91edbf81",
   "metadata": {},
   "outputs": [
    {
     "ename": "KeyboardInterrupt",
     "evalue": "",
     "output_type": "error",
     "traceback": [
      "\u001b[1;31m---------------------------------------------------------------------------\u001b[0m",
      "\u001b[1;31mKeyboardInterrupt\u001b[0m                         Traceback (most recent call last)",
      "\u001b[1;32m~\\AppData\\Local\\Temp\\ipykernel_3964\\957803442.py\u001b[0m in \u001b[0;36m<module>\u001b[1;34m\u001b[0m\n\u001b[0;32m      1\u001b[0m \u001b[0mdriver\u001b[0m \u001b[1;33m=\u001b[0m \u001b[0mwebdriver\u001b[0m\u001b[1;33m.\u001b[0m\u001b[0mChrome\u001b[0m\u001b[1;33m(\u001b[0m\u001b[1;33m)\u001b[0m\u001b[1;33m\u001b[0m\u001b[1;33m\u001b[0m\u001b[0m\n\u001b[0;32m      2\u001b[0m \u001b[0murl\u001b[0m \u001b[1;33m=\u001b[0m \u001b[1;34m'https://www.brenda-enzymes.org/enzyme.php?ecno='\u001b[0m \u001b[1;33m+\u001b[0m \u001b[0mectree_str\u001b[0m\u001b[1;33m\u001b[0m\u001b[1;33m\u001b[0m\u001b[0m\n\u001b[1;32m----> 3\u001b[1;33m \u001b[0mdriver\u001b[0m\u001b[1;33m.\u001b[0m\u001b[0mget\u001b[0m\u001b[1;33m(\u001b[0m\u001b[0murl\u001b[0m\u001b[1;33m)\u001b[0m\u001b[1;33m\u001b[0m\u001b[1;33m\u001b[0m\u001b[0m\n\u001b[0m",
      "\u001b[1;32m~\\Anaconda3\\lib\\site-packages\\selenium\\webdriver\\remote\\webdriver.py\u001b[0m in \u001b[0;36mget\u001b[1;34m(self, url)\u001b[0m\n\u001b[0;32m    453\u001b[0m         \u001b[0mLoads\u001b[0m \u001b[0ma\u001b[0m \u001b[0mweb\u001b[0m \u001b[0mpage\u001b[0m \u001b[1;32min\u001b[0m \u001b[0mthe\u001b[0m \u001b[0mcurrent\u001b[0m \u001b[0mbrowser\u001b[0m \u001b[0msession\u001b[0m\u001b[1;33m.\u001b[0m\u001b[1;33m\u001b[0m\u001b[1;33m\u001b[0m\u001b[0m\n\u001b[0;32m    454\u001b[0m         \"\"\"\n\u001b[1;32m--> 455\u001b[1;33m         \u001b[0mself\u001b[0m\u001b[1;33m.\u001b[0m\u001b[0mexecute\u001b[0m\u001b[1;33m(\u001b[0m\u001b[0mCommand\u001b[0m\u001b[1;33m.\u001b[0m\u001b[0mGET\u001b[0m\u001b[1;33m,\u001b[0m \u001b[1;33m{\u001b[0m\u001b[1;34m\"url\"\u001b[0m\u001b[1;33m:\u001b[0m \u001b[0murl\u001b[0m\u001b[1;33m}\u001b[0m\u001b[1;33m)\u001b[0m\u001b[1;33m\u001b[0m\u001b[1;33m\u001b[0m\u001b[0m\n\u001b[0m\u001b[0;32m    456\u001b[0m \u001b[1;33m\u001b[0m\u001b[0m\n\u001b[0;32m    457\u001b[0m     \u001b[1;33m@\u001b[0m\u001b[0mproperty\u001b[0m\u001b[1;33m\u001b[0m\u001b[1;33m\u001b[0m\u001b[0m\n",
      "\u001b[1;32m~\\Anaconda3\\lib\\site-packages\\selenium\\webdriver\\remote\\webdriver.py\u001b[0m in \u001b[0;36mexecute\u001b[1;34m(self, driver_command, params)\u001b[0m\n\u001b[0;32m    440\u001b[0m                 \u001b[0mparams\u001b[0m\u001b[1;33m[\u001b[0m\u001b[1;34m\"sessionId\"\u001b[0m\u001b[1;33m]\u001b[0m \u001b[1;33m=\u001b[0m \u001b[0mself\u001b[0m\u001b[1;33m.\u001b[0m\u001b[0msession_id\u001b[0m\u001b[1;33m\u001b[0m\u001b[1;33m\u001b[0m\u001b[0m\n\u001b[0;32m    441\u001b[0m \u001b[1;33m\u001b[0m\u001b[0m\n\u001b[1;32m--> 442\u001b[1;33m         \u001b[0mresponse\u001b[0m \u001b[1;33m=\u001b[0m \u001b[0mself\u001b[0m\u001b[1;33m.\u001b[0m\u001b[0mcommand_executor\u001b[0m\u001b[1;33m.\u001b[0m\u001b[0mexecute\u001b[0m\u001b[1;33m(\u001b[0m\u001b[0mdriver_command\u001b[0m\u001b[1;33m,\u001b[0m \u001b[0mparams\u001b[0m\u001b[1;33m)\u001b[0m\u001b[1;33m\u001b[0m\u001b[1;33m\u001b[0m\u001b[0m\n\u001b[0m\u001b[0;32m    443\u001b[0m         \u001b[1;32mif\u001b[0m \u001b[0mresponse\u001b[0m\u001b[1;33m:\u001b[0m\u001b[1;33m\u001b[0m\u001b[1;33m\u001b[0m\u001b[0m\n\u001b[0;32m    444\u001b[0m             \u001b[0mself\u001b[0m\u001b[1;33m.\u001b[0m\u001b[0merror_handler\u001b[0m\u001b[1;33m.\u001b[0m\u001b[0mcheck_response\u001b[0m\u001b[1;33m(\u001b[0m\u001b[0mresponse\u001b[0m\u001b[1;33m)\u001b[0m\u001b[1;33m\u001b[0m\u001b[1;33m\u001b[0m\u001b[0m\n",
      "\u001b[1;32m~\\Anaconda3\\lib\\site-packages\\selenium\\webdriver\\remote\\remote_connection.py\u001b[0m in \u001b[0;36mexecute\u001b[1;34m(self, command, params)\u001b[0m\n\u001b[0;32m    292\u001b[0m         \u001b[0mdata\u001b[0m \u001b[1;33m=\u001b[0m \u001b[0mutils\u001b[0m\u001b[1;33m.\u001b[0m\u001b[0mdump_json\u001b[0m\u001b[1;33m(\u001b[0m\u001b[0mparams\u001b[0m\u001b[1;33m)\u001b[0m\u001b[1;33m\u001b[0m\u001b[1;33m\u001b[0m\u001b[0m\n\u001b[0;32m    293\u001b[0m         \u001b[0murl\u001b[0m \u001b[1;33m=\u001b[0m \u001b[1;34mf\"{self._url}{path}\"\u001b[0m\u001b[1;33m\u001b[0m\u001b[1;33m\u001b[0m\u001b[0m\n\u001b[1;32m--> 294\u001b[1;33m         \u001b[1;32mreturn\u001b[0m \u001b[0mself\u001b[0m\u001b[1;33m.\u001b[0m\u001b[0m_request\u001b[0m\u001b[1;33m(\u001b[0m\u001b[0mcommand_info\u001b[0m\u001b[1;33m[\u001b[0m\u001b[1;36m0\u001b[0m\u001b[1;33m]\u001b[0m\u001b[1;33m,\u001b[0m \u001b[0murl\u001b[0m\u001b[1;33m,\u001b[0m \u001b[0mbody\u001b[0m\u001b[1;33m=\u001b[0m\u001b[0mdata\u001b[0m\u001b[1;33m)\u001b[0m\u001b[1;33m\u001b[0m\u001b[1;33m\u001b[0m\u001b[0m\n\u001b[0m\u001b[0;32m    295\u001b[0m \u001b[1;33m\u001b[0m\u001b[0m\n\u001b[0;32m    296\u001b[0m     \u001b[1;32mdef\u001b[0m \u001b[0m_request\u001b[0m\u001b[1;33m(\u001b[0m\u001b[0mself\u001b[0m\u001b[1;33m,\u001b[0m \u001b[0mmethod\u001b[0m\u001b[1;33m,\u001b[0m \u001b[0murl\u001b[0m\u001b[1;33m,\u001b[0m \u001b[0mbody\u001b[0m\u001b[1;33m=\u001b[0m\u001b[1;32mNone\u001b[0m\u001b[1;33m)\u001b[0m\u001b[1;33m:\u001b[0m\u001b[1;33m\u001b[0m\u001b[1;33m\u001b[0m\u001b[0m\n",
      "\u001b[1;32m~\\Anaconda3\\lib\\site-packages\\selenium\\webdriver\\remote\\remote_connection.py\u001b[0m in \u001b[0;36m_request\u001b[1;34m(self, method, url, body)\u001b[0m\n\u001b[0;32m    314\u001b[0m \u001b[1;33m\u001b[0m\u001b[0m\n\u001b[0;32m    315\u001b[0m         \u001b[1;32mif\u001b[0m \u001b[0mself\u001b[0m\u001b[1;33m.\u001b[0m\u001b[0mkeep_alive\u001b[0m\u001b[1;33m:\u001b[0m\u001b[1;33m\u001b[0m\u001b[1;33m\u001b[0m\u001b[0m\n\u001b[1;32m--> 316\u001b[1;33m             \u001b[0mresponse\u001b[0m \u001b[1;33m=\u001b[0m \u001b[0mself\u001b[0m\u001b[1;33m.\u001b[0m\u001b[0m_conn\u001b[0m\u001b[1;33m.\u001b[0m\u001b[0mrequest\u001b[0m\u001b[1;33m(\u001b[0m\u001b[0mmethod\u001b[0m\u001b[1;33m,\u001b[0m \u001b[0murl\u001b[0m\u001b[1;33m,\u001b[0m \u001b[0mbody\u001b[0m\u001b[1;33m=\u001b[0m\u001b[0mbody\u001b[0m\u001b[1;33m,\u001b[0m \u001b[0mheaders\u001b[0m\u001b[1;33m=\u001b[0m\u001b[0mheaders\u001b[0m\u001b[1;33m)\u001b[0m\u001b[1;33m\u001b[0m\u001b[1;33m\u001b[0m\u001b[0m\n\u001b[0m\u001b[0;32m    317\u001b[0m             \u001b[0mstatuscode\u001b[0m \u001b[1;33m=\u001b[0m \u001b[0mresponse\u001b[0m\u001b[1;33m.\u001b[0m\u001b[0mstatus\u001b[0m\u001b[1;33m\u001b[0m\u001b[1;33m\u001b[0m\u001b[0m\n\u001b[0;32m    318\u001b[0m         \u001b[1;32melse\u001b[0m\u001b[1;33m:\u001b[0m\u001b[1;33m\u001b[0m\u001b[1;33m\u001b[0m\u001b[0m\n",
      "\u001b[1;32m~\\Anaconda3\\lib\\site-packages\\urllib3\\request.py\u001b[0m in \u001b[0;36mrequest\u001b[1;34m(self, method, url, fields, headers, **urlopen_kw)\u001b[0m\n\u001b[0;32m     76\u001b[0m             )\n\u001b[0;32m     77\u001b[0m         \u001b[1;32melse\u001b[0m\u001b[1;33m:\u001b[0m\u001b[1;33m\u001b[0m\u001b[1;33m\u001b[0m\u001b[0m\n\u001b[1;32m---> 78\u001b[1;33m             return self.request_encode_body(\n\u001b[0m\u001b[0;32m     79\u001b[0m                 \u001b[0mmethod\u001b[0m\u001b[1;33m,\u001b[0m \u001b[0murl\u001b[0m\u001b[1;33m,\u001b[0m \u001b[0mfields\u001b[0m\u001b[1;33m=\u001b[0m\u001b[0mfields\u001b[0m\u001b[1;33m,\u001b[0m \u001b[0mheaders\u001b[0m\u001b[1;33m=\u001b[0m\u001b[0mheaders\u001b[0m\u001b[1;33m,\u001b[0m \u001b[1;33m**\u001b[0m\u001b[0murlopen_kw\u001b[0m\u001b[1;33m\u001b[0m\u001b[1;33m\u001b[0m\u001b[0m\n\u001b[0;32m     80\u001b[0m             )\n",
      "\u001b[1;32m~\\Anaconda3\\lib\\site-packages\\urllib3\\request.py\u001b[0m in \u001b[0;36mrequest_encode_body\u001b[1;34m(self, method, url, fields, headers, encode_multipart, multipart_boundary, **urlopen_kw)\u001b[0m\n\u001b[0;32m    168\u001b[0m         \u001b[0mextra_kw\u001b[0m\u001b[1;33m.\u001b[0m\u001b[0mupdate\u001b[0m\u001b[1;33m(\u001b[0m\u001b[0murlopen_kw\u001b[0m\u001b[1;33m)\u001b[0m\u001b[1;33m\u001b[0m\u001b[1;33m\u001b[0m\u001b[0m\n\u001b[0;32m    169\u001b[0m \u001b[1;33m\u001b[0m\u001b[0m\n\u001b[1;32m--> 170\u001b[1;33m         \u001b[1;32mreturn\u001b[0m \u001b[0mself\u001b[0m\u001b[1;33m.\u001b[0m\u001b[0murlopen\u001b[0m\u001b[1;33m(\u001b[0m\u001b[0mmethod\u001b[0m\u001b[1;33m,\u001b[0m \u001b[0murl\u001b[0m\u001b[1;33m,\u001b[0m \u001b[1;33m**\u001b[0m\u001b[0mextra_kw\u001b[0m\u001b[1;33m)\u001b[0m\u001b[1;33m\u001b[0m\u001b[1;33m\u001b[0m\u001b[0m\n\u001b[0m",
      "\u001b[1;32m~\\Anaconda3\\lib\\site-packages\\urllib3\\poolmanager.py\u001b[0m in \u001b[0;36murlopen\u001b[1;34m(self, method, url, redirect, **kw)\u001b[0m\n\u001b[0;32m    374\u001b[0m             \u001b[0mresponse\u001b[0m \u001b[1;33m=\u001b[0m \u001b[0mconn\u001b[0m\u001b[1;33m.\u001b[0m\u001b[0murlopen\u001b[0m\u001b[1;33m(\u001b[0m\u001b[0mmethod\u001b[0m\u001b[1;33m,\u001b[0m \u001b[0murl\u001b[0m\u001b[1;33m,\u001b[0m \u001b[1;33m**\u001b[0m\u001b[0mkw\u001b[0m\u001b[1;33m)\u001b[0m\u001b[1;33m\u001b[0m\u001b[1;33m\u001b[0m\u001b[0m\n\u001b[0;32m    375\u001b[0m         \u001b[1;32melse\u001b[0m\u001b[1;33m:\u001b[0m\u001b[1;33m\u001b[0m\u001b[1;33m\u001b[0m\u001b[0m\n\u001b[1;32m--> 376\u001b[1;33m             \u001b[0mresponse\u001b[0m \u001b[1;33m=\u001b[0m \u001b[0mconn\u001b[0m\u001b[1;33m.\u001b[0m\u001b[0murlopen\u001b[0m\u001b[1;33m(\u001b[0m\u001b[0mmethod\u001b[0m\u001b[1;33m,\u001b[0m \u001b[0mu\u001b[0m\u001b[1;33m.\u001b[0m\u001b[0mrequest_uri\u001b[0m\u001b[1;33m,\u001b[0m \u001b[1;33m**\u001b[0m\u001b[0mkw\u001b[0m\u001b[1;33m)\u001b[0m\u001b[1;33m\u001b[0m\u001b[1;33m\u001b[0m\u001b[0m\n\u001b[0m\u001b[0;32m    377\u001b[0m \u001b[1;33m\u001b[0m\u001b[0m\n\u001b[0;32m    378\u001b[0m         \u001b[0mredirect_location\u001b[0m \u001b[1;33m=\u001b[0m \u001b[0mredirect\u001b[0m \u001b[1;32mand\u001b[0m \u001b[0mresponse\u001b[0m\u001b[1;33m.\u001b[0m\u001b[0mget_redirect_location\u001b[0m\u001b[1;33m(\u001b[0m\u001b[1;33m)\u001b[0m\u001b[1;33m\u001b[0m\u001b[1;33m\u001b[0m\u001b[0m\n",
      "\u001b[1;32m~\\Anaconda3\\lib\\site-packages\\urllib3\\connectionpool.py\u001b[0m in \u001b[0;36murlopen\u001b[1;34m(self, method, url, body, headers, retries, redirect, assert_same_host, timeout, pool_timeout, release_conn, chunked, body_pos, **response_kw)\u001b[0m\n\u001b[0;32m    701\u001b[0m \u001b[1;33m\u001b[0m\u001b[0m\n\u001b[0;32m    702\u001b[0m             \u001b[1;31m# Make the request on the httplib connection object.\u001b[0m\u001b[1;33m\u001b[0m\u001b[1;33m\u001b[0m\u001b[0m\n\u001b[1;32m--> 703\u001b[1;33m             httplib_response = self._make_request(\n\u001b[0m\u001b[0;32m    704\u001b[0m                 \u001b[0mconn\u001b[0m\u001b[1;33m,\u001b[0m\u001b[1;33m\u001b[0m\u001b[1;33m\u001b[0m\u001b[0m\n\u001b[0;32m    705\u001b[0m                 \u001b[0mmethod\u001b[0m\u001b[1;33m,\u001b[0m\u001b[1;33m\u001b[0m\u001b[1;33m\u001b[0m\u001b[0m\n",
      "\u001b[1;32m~\\Anaconda3\\lib\\site-packages\\urllib3\\connectionpool.py\u001b[0m in \u001b[0;36m_make_request\u001b[1;34m(self, conn, method, url, timeout, chunked, **httplib_request_kw)\u001b[0m\n\u001b[0;32m    447\u001b[0m                     \u001b[1;31m# Python 3 (including for exceptions like SystemExit).\u001b[0m\u001b[1;33m\u001b[0m\u001b[1;33m\u001b[0m\u001b[0m\n\u001b[0;32m    448\u001b[0m                     \u001b[1;31m# Otherwise it looks like a bug in the code.\u001b[0m\u001b[1;33m\u001b[0m\u001b[1;33m\u001b[0m\u001b[0m\n\u001b[1;32m--> 449\u001b[1;33m                     \u001b[0msix\u001b[0m\u001b[1;33m.\u001b[0m\u001b[0mraise_from\u001b[0m\u001b[1;33m(\u001b[0m\u001b[0me\u001b[0m\u001b[1;33m,\u001b[0m \u001b[1;32mNone\u001b[0m\u001b[1;33m)\u001b[0m\u001b[1;33m\u001b[0m\u001b[1;33m\u001b[0m\u001b[0m\n\u001b[0m\u001b[0;32m    450\u001b[0m         \u001b[1;32mexcept\u001b[0m \u001b[1;33m(\u001b[0m\u001b[0mSocketTimeout\u001b[0m\u001b[1;33m,\u001b[0m \u001b[0mBaseSSLError\u001b[0m\u001b[1;33m,\u001b[0m \u001b[0mSocketError\u001b[0m\u001b[1;33m)\u001b[0m \u001b[1;32mas\u001b[0m \u001b[0me\u001b[0m\u001b[1;33m:\u001b[0m\u001b[1;33m\u001b[0m\u001b[1;33m\u001b[0m\u001b[0m\n\u001b[0;32m    451\u001b[0m             \u001b[0mself\u001b[0m\u001b[1;33m.\u001b[0m\u001b[0m_raise_timeout\u001b[0m\u001b[1;33m(\u001b[0m\u001b[0merr\u001b[0m\u001b[1;33m=\u001b[0m\u001b[0me\u001b[0m\u001b[1;33m,\u001b[0m \u001b[0murl\u001b[0m\u001b[1;33m=\u001b[0m\u001b[0murl\u001b[0m\u001b[1;33m,\u001b[0m \u001b[0mtimeout_value\u001b[0m\u001b[1;33m=\u001b[0m\u001b[0mread_timeout\u001b[0m\u001b[1;33m)\u001b[0m\u001b[1;33m\u001b[0m\u001b[1;33m\u001b[0m\u001b[0m\n",
      "\u001b[1;32m~\\Anaconda3\\lib\\site-packages\\urllib3\\packages\\six.py\u001b[0m in \u001b[0;36mraise_from\u001b[1;34m(value, from_value)\u001b[0m\n",
      "\u001b[1;32m~\\Anaconda3\\lib\\site-packages\\urllib3\\connectionpool.py\u001b[0m in \u001b[0;36m_make_request\u001b[1;34m(self, conn, method, url, timeout, chunked, **httplib_request_kw)\u001b[0m\n\u001b[0;32m    442\u001b[0m                 \u001b[1;31m# Python 3\u001b[0m\u001b[1;33m\u001b[0m\u001b[1;33m\u001b[0m\u001b[0m\n\u001b[0;32m    443\u001b[0m                 \u001b[1;32mtry\u001b[0m\u001b[1;33m:\u001b[0m\u001b[1;33m\u001b[0m\u001b[1;33m\u001b[0m\u001b[0m\n\u001b[1;32m--> 444\u001b[1;33m                     \u001b[0mhttplib_response\u001b[0m \u001b[1;33m=\u001b[0m \u001b[0mconn\u001b[0m\u001b[1;33m.\u001b[0m\u001b[0mgetresponse\u001b[0m\u001b[1;33m(\u001b[0m\u001b[1;33m)\u001b[0m\u001b[1;33m\u001b[0m\u001b[1;33m\u001b[0m\u001b[0m\n\u001b[0m\u001b[0;32m    445\u001b[0m                 \u001b[1;32mexcept\u001b[0m \u001b[0mBaseException\u001b[0m \u001b[1;32mas\u001b[0m \u001b[0me\u001b[0m\u001b[1;33m:\u001b[0m\u001b[1;33m\u001b[0m\u001b[1;33m\u001b[0m\u001b[0m\n\u001b[0;32m    446\u001b[0m                     \u001b[1;31m# Remove the TypeError from the exception chain in\u001b[0m\u001b[1;33m\u001b[0m\u001b[1;33m\u001b[0m\u001b[0m\n",
      "\u001b[1;32m~\\Anaconda3\\lib\\http\\client.py\u001b[0m in \u001b[0;36mgetresponse\u001b[1;34m(self)\u001b[0m\n\u001b[0;32m   1375\u001b[0m         \u001b[1;32mtry\u001b[0m\u001b[1;33m:\u001b[0m\u001b[1;33m\u001b[0m\u001b[1;33m\u001b[0m\u001b[0m\n\u001b[0;32m   1376\u001b[0m             \u001b[1;32mtry\u001b[0m\u001b[1;33m:\u001b[0m\u001b[1;33m\u001b[0m\u001b[1;33m\u001b[0m\u001b[0m\n\u001b[1;32m-> 1377\u001b[1;33m                 \u001b[0mresponse\u001b[0m\u001b[1;33m.\u001b[0m\u001b[0mbegin\u001b[0m\u001b[1;33m(\u001b[0m\u001b[1;33m)\u001b[0m\u001b[1;33m\u001b[0m\u001b[1;33m\u001b[0m\u001b[0m\n\u001b[0m\u001b[0;32m   1378\u001b[0m             \u001b[1;32mexcept\u001b[0m \u001b[0mConnectionError\u001b[0m\u001b[1;33m:\u001b[0m\u001b[1;33m\u001b[0m\u001b[1;33m\u001b[0m\u001b[0m\n\u001b[0;32m   1379\u001b[0m                 \u001b[0mself\u001b[0m\u001b[1;33m.\u001b[0m\u001b[0mclose\u001b[0m\u001b[1;33m(\u001b[0m\u001b[1;33m)\u001b[0m\u001b[1;33m\u001b[0m\u001b[1;33m\u001b[0m\u001b[0m\n",
      "\u001b[1;32m~\\Anaconda3\\lib\\http\\client.py\u001b[0m in \u001b[0;36mbegin\u001b[1;34m(self)\u001b[0m\n\u001b[0;32m    318\u001b[0m         \u001b[1;31m# read until we get a non-100 response\u001b[0m\u001b[1;33m\u001b[0m\u001b[1;33m\u001b[0m\u001b[0m\n\u001b[0;32m    319\u001b[0m         \u001b[1;32mwhile\u001b[0m \u001b[1;32mTrue\u001b[0m\u001b[1;33m:\u001b[0m\u001b[1;33m\u001b[0m\u001b[1;33m\u001b[0m\u001b[0m\n\u001b[1;32m--> 320\u001b[1;33m             \u001b[0mversion\u001b[0m\u001b[1;33m,\u001b[0m \u001b[0mstatus\u001b[0m\u001b[1;33m,\u001b[0m \u001b[0mreason\u001b[0m \u001b[1;33m=\u001b[0m \u001b[0mself\u001b[0m\u001b[1;33m.\u001b[0m\u001b[0m_read_status\u001b[0m\u001b[1;33m(\u001b[0m\u001b[1;33m)\u001b[0m\u001b[1;33m\u001b[0m\u001b[1;33m\u001b[0m\u001b[0m\n\u001b[0m\u001b[0;32m    321\u001b[0m             \u001b[1;32mif\u001b[0m \u001b[0mstatus\u001b[0m \u001b[1;33m!=\u001b[0m \u001b[0mCONTINUE\u001b[0m\u001b[1;33m:\u001b[0m\u001b[1;33m\u001b[0m\u001b[1;33m\u001b[0m\u001b[0m\n\u001b[0;32m    322\u001b[0m                 \u001b[1;32mbreak\u001b[0m\u001b[1;33m\u001b[0m\u001b[1;33m\u001b[0m\u001b[0m\n",
      "\u001b[1;32m~\\Anaconda3\\lib\\http\\client.py\u001b[0m in \u001b[0;36m_read_status\u001b[1;34m(self)\u001b[0m\n\u001b[0;32m    279\u001b[0m \u001b[1;33m\u001b[0m\u001b[0m\n\u001b[0;32m    280\u001b[0m     \u001b[1;32mdef\u001b[0m \u001b[0m_read_status\u001b[0m\u001b[1;33m(\u001b[0m\u001b[0mself\u001b[0m\u001b[1;33m)\u001b[0m\u001b[1;33m:\u001b[0m\u001b[1;33m\u001b[0m\u001b[1;33m\u001b[0m\u001b[0m\n\u001b[1;32m--> 281\u001b[1;33m         \u001b[0mline\u001b[0m \u001b[1;33m=\u001b[0m \u001b[0mstr\u001b[0m\u001b[1;33m(\u001b[0m\u001b[0mself\u001b[0m\u001b[1;33m.\u001b[0m\u001b[0mfp\u001b[0m\u001b[1;33m.\u001b[0m\u001b[0mreadline\u001b[0m\u001b[1;33m(\u001b[0m\u001b[0m_MAXLINE\u001b[0m \u001b[1;33m+\u001b[0m \u001b[1;36m1\u001b[0m\u001b[1;33m)\u001b[0m\u001b[1;33m,\u001b[0m \u001b[1;34m\"iso-8859-1\"\u001b[0m\u001b[1;33m)\u001b[0m\u001b[1;33m\u001b[0m\u001b[1;33m\u001b[0m\u001b[0m\n\u001b[0m\u001b[0;32m    282\u001b[0m         \u001b[1;32mif\u001b[0m \u001b[0mlen\u001b[0m\u001b[1;33m(\u001b[0m\u001b[0mline\u001b[0m\u001b[1;33m)\u001b[0m \u001b[1;33m>\u001b[0m \u001b[0m_MAXLINE\u001b[0m\u001b[1;33m:\u001b[0m\u001b[1;33m\u001b[0m\u001b[1;33m\u001b[0m\u001b[0m\n\u001b[0;32m    283\u001b[0m             \u001b[1;32mraise\u001b[0m \u001b[0mLineTooLong\u001b[0m\u001b[1;33m(\u001b[0m\u001b[1;34m\"status line\"\u001b[0m\u001b[1;33m)\u001b[0m\u001b[1;33m\u001b[0m\u001b[1;33m\u001b[0m\u001b[0m\n",
      "\u001b[1;32m~\\Anaconda3\\lib\\socket.py\u001b[0m in \u001b[0;36mreadinto\u001b[1;34m(self, b)\u001b[0m\n\u001b[0;32m    702\u001b[0m         \u001b[1;32mwhile\u001b[0m \u001b[1;32mTrue\u001b[0m\u001b[1;33m:\u001b[0m\u001b[1;33m\u001b[0m\u001b[1;33m\u001b[0m\u001b[0m\n\u001b[0;32m    703\u001b[0m             \u001b[1;32mtry\u001b[0m\u001b[1;33m:\u001b[0m\u001b[1;33m\u001b[0m\u001b[1;33m\u001b[0m\u001b[0m\n\u001b[1;32m--> 704\u001b[1;33m                 \u001b[1;32mreturn\u001b[0m \u001b[0mself\u001b[0m\u001b[1;33m.\u001b[0m\u001b[0m_sock\u001b[0m\u001b[1;33m.\u001b[0m\u001b[0mrecv_into\u001b[0m\u001b[1;33m(\u001b[0m\u001b[0mb\u001b[0m\u001b[1;33m)\u001b[0m\u001b[1;33m\u001b[0m\u001b[1;33m\u001b[0m\u001b[0m\n\u001b[0m\u001b[0;32m    705\u001b[0m             \u001b[1;32mexcept\u001b[0m \u001b[0mtimeout\u001b[0m\u001b[1;33m:\u001b[0m\u001b[1;33m\u001b[0m\u001b[1;33m\u001b[0m\u001b[0m\n\u001b[0;32m    706\u001b[0m                 \u001b[0mself\u001b[0m\u001b[1;33m.\u001b[0m\u001b[0m_timeout_occurred\u001b[0m \u001b[1;33m=\u001b[0m \u001b[1;32mTrue\u001b[0m\u001b[1;33m\u001b[0m\u001b[1;33m\u001b[0m\u001b[0m\n",
      "\u001b[1;31mKeyboardInterrupt\u001b[0m: "
     ]
    }
   ],
   "source": [
    "driver = webdriver.Chrome()\n",
    "url = 'https://www.brenda-enzymes.org/enzyme.php?ecno=' + ectree_str\n",
    "driver.get(url)"
   ]
  },
  {
   "cell_type": "code",
   "execution_count": null,
   "id": "e8fbe923",
   "metadata": {},
   "outputs": [],
   "source": [
    "#show all tables\n",
    "driver.find_element(By.XPATH, '//*[@id=\"flatnav_sa\"]').click()"
   ]
  },
  {
   "cell_type": "code",
   "execution_count": null,
   "id": "5fc4afe5",
   "metadata": {},
   "outputs": [],
   "source": [
    "title = driver.find_element(By.XPATH, '//*[@id=\"flatheader\"]/div/h1')\n",
    "print(title.text)"
   ]
  },
  {
   "cell_type": "code",
   "execution_count": null,
   "id": "1be4fd1f",
   "metadata": {},
   "outputs": [],
   "source": [
    "# //*[@id=\"tab47\"] https://meet.google.com/csj-cxpp-ejv //*[@id=\"tab16\"]\n",
    "title = driver.find_element(By.XPATH, '//*[@id=\"tab23_head\"]/div[1]')\n",
    "print(title.text)"
   ]
  },
  {
   "cell_type": "code",
   "execution_count": null,
   "id": "a8427349",
   "metadata": {},
   "outputs": [],
   "source": [
    "chks = driver.find_elements(By.XPATH, \"//*[@id='tab23']//a[@href]\")\n",
    "\n",
    "ent = 'entries'\n",
    "\n",
    "for chk in chks:\n",
    "    txt = chk.text\n",
    "    if ent in txt:\n",
    "        chk.click()"
   ]
  },
  {
   "cell_type": "code",
   "execution_count": null,
   "id": "cc6264b8",
   "metadata": {},
   "outputs": [],
   "source": [
    "tab1_eles = driver.find_elements(By.XPATH, '//div[@id=\"tab23\" and @class=\"equal\"]')"
   ]
  },
  {
   "cell_type": "code",
   "execution_count": null,
   "id": "f8a90faf",
   "metadata": {},
   "outputs": [],
   "source": [
    "table_columns = []\n",
    "\n",
    "for tab in tab1_eles:\n",
    "    \n",
    "    col_list = tab.find_elements(By.CLASS_NAME, 'header')\n",
    "    \n",
    "    for listss in col_list:\n",
    "        print(listss.text)\n",
    "        table_columns.append(listss.text)"
   ]
  },
  {
   "cell_type": "code",
   "execution_count": null,
   "id": "53457fe1",
   "metadata": {},
   "outputs": [],
   "source": [
    "final_df = pd.DataFrame(columns = table_columns)"
   ]
  },
  {
   "cell_type": "code",
   "execution_count": null,
   "id": "68dd5674",
   "metadata": {},
   "outputs": [],
   "source": [
    "final_df"
   ]
  },
  {
   "cell_type": "code",
   "execution_count": null,
   "id": "1ef42605",
   "metadata": {},
   "outputs": [],
   "source": [
    "tab1_eles = driver.find_elements(By.XPATH, \"//div[contains(@id, 'tab23r') and contains(@class, 'cell')]\")"
   ]
  },
  {
   "cell_type": "code",
   "execution_count": null,
   "id": "53ad2ee7",
   "metadata": {
    "scrolled": true
   },
   "outputs": [],
   "source": [
    "table_values = []\n",
    "for tab in tab1_eles:\n",
    "    try:\n",
    "        link = tab.find_element(By.TAG_NAME, 'a')\n",
    "        temp_link = link.get_attribute('href')\n",
    "        \n",
    "        # if not('showRows' or 'hideRows') in temp_link:\n",
    "        if ('showRows' in temp_link or 'hideRows' in temp_link):\n",
    "            #print(tab.text)\n",
    "            table_values.append(tab.text)\n",
    "            # print(tab.text + ', ' + temp_link)\n",
    "            # table_values.append(tab.text + ',' + temp_link)\n",
    "            \n",
    "        else:\n",
    "            # print(tab.text)\n",
    "            # table_values.append(tab.text)\n",
    "            \n",
    "            #print(tab.text + ', ' + temp_link)\n",
    "            table_values.append(tab.text + ',' + temp_link)\n",
    "            \n",
    "    except:\n",
    "        table_values.append(tab.text)\n",
    "        #print(tab.text)"
   ]
  },
  {
   "cell_type": "code",
   "execution_count": null,
   "id": "dd47de1e",
   "metadata": {},
   "outputs": [],
   "source": [
    "len(table_values)"
   ]
  },
  {
   "cell_type": "code",
   "execution_count": null,
   "id": "8564dec9",
   "metadata": {},
   "outputs": [],
   "source": [
    "(len(table_values)/len(table_columns))"
   ]
  },
  {
   "cell_type": "code",
   "execution_count": null,
   "id": "1741b538",
   "metadata": {
    "scrolled": true
   },
   "outputs": [],
   "source": [
    "for i in range(len(table_columns)):\n",
    "    temp_value = table_values[i::(len(table_columns))]\n",
    "    #print(temp_value)\n",
    "    \n",
    "    final_df[table_columns[i]] = temp_value"
   ]
  },
  {
   "cell_type": "code",
   "execution_count": null,
   "id": "b006d6ce",
   "metadata": {
    "scrolled": false
   },
   "outputs": [],
   "source": [
    "final_df.head()"
   ]
  },
  {
   "cell_type": "markdown",
   "id": "d290309c",
   "metadata": {},
   "source": [
    "final_df.to_csv('table_for_test.csv')"
   ]
  },
  {
   "cell_type": "markdown",
   "id": "53ff42f8",
   "metadata": {},
   "source": [
    "#### formatting column names"
   ]
  },
  {
   "cell_type": "code",
   "execution_count": null,
   "id": "cdb1c641",
   "metadata": {},
   "outputs": [],
   "source": [
    "final_df.isnull().sum()"
   ]
  },
  {
   "cell_type": "markdown",
   "id": "b474e05e",
   "metadata": {},
   "source": [
    "final_df.columns = [c.replace(\"\\n\", \"_\") for c in final_df.columns]"
   ]
  },
  {
   "cell_type": "code",
   "execution_count": null,
   "id": "f81d8f56",
   "metadata": {},
   "outputs": [],
   "source": [
    "final_df.head()"
   ]
  },
  {
   "cell_type": "code",
   "execution_count": null,
   "id": "a610fb9e",
   "metadata": {},
   "outputs": [],
   "source": [
    "final_df.replace(r'^\\s*$', np.nan, regex=True, inplace = True)"
   ]
  },
  {
   "cell_type": "code",
   "execution_count": null,
   "id": "edde61b1",
   "metadata": {},
   "outputs": [],
   "source": [
    "final_df.isnull().sum()"
   ]
  },
  {
   "cell_type": "code",
   "execution_count": null,
   "id": "7e6dc5fc",
   "metadata": {},
   "outputs": [],
   "source": [
    "final_df.ffill(inplace = True)"
   ]
  },
  {
   "cell_type": "code",
   "execution_count": null,
   "id": "8c7100a2",
   "metadata": {
    "scrolled": true
   },
   "outputs": [],
   "source": [
    "final_df.head(10)"
   ]
  },
  {
   "cell_type": "code",
   "execution_count": null,
   "id": "5a934c84",
   "metadata": {
    "scrolled": true
   },
   "outputs": [],
   "source": [
    "final_df.dtypes"
   ]
  },
  {
   "cell_type": "code",
   "execution_count": null,
   "id": "680b62a8",
   "metadata": {},
   "outputs": [],
   "source": [
    "http_columns = final_df.columns[final_df.apply(lambda x: x.str.contains(\"https\")).any()]"
   ]
  },
  {
   "cell_type": "code",
   "execution_count": null,
   "id": "52970055",
   "metadata": {},
   "outputs": [],
   "source": [
    "len(http_columns)"
   ]
  },
  {
   "cell_type": "markdown",
   "id": "56c41697",
   "metadata": {},
   "source": [
    "main_df = final_df.copy()"
   ]
  },
  {
   "cell_type": "code",
   "execution_count": null,
   "id": "d474d20e",
   "metadata": {},
   "outputs": [],
   "source": [
    "for i in range(len(http_columns)):\n",
    "    # print(http_columns[i])\n",
    "    temp_string = http_columns[i] + ' ' + 'href'\n",
    "    # new = final_df[http_columns[i]].str.split(\",\", n = 1, expand = True)\n",
    "    new = final_df[http_columns[i]].str.rsplit(\",\", n=1, expand = True)\n",
    "    # print(new[0])        \n",
    "    # print(new[1])\n",
    "    final_df[http_columns[i]] = new[0]\n",
    "    final_df[temp_string]= new[1] "
   ]
  },
  {
   "cell_type": "markdown",
   "id": "8665e3bd",
   "metadata": {
    "scrolled": false
   },
   "source": [
    "final_df.head(20)"
   ]
  },
  {
   "cell_type": "code",
   "execution_count": null,
   "id": "cbe20dc6",
   "metadata": {},
   "outputs": [],
   "source": [
    "js_columns = final_df.columns[final_df.apply(lambda x: x.str.contains(\"javascript\")).any()]"
   ]
  },
  {
   "cell_type": "code",
   "execution_count": null,
   "id": "185db146",
   "metadata": {},
   "outputs": [],
   "source": [
    "len(js_columns)"
   ]
  },
  {
   "cell_type": "code",
   "execution_count": null,
   "id": "bdcd3969",
   "metadata": {},
   "outputs": [],
   "source": [
    "new_columns = []\n",
    "\n",
    "for i in range(len(js_columns)):\n",
    "    print(js_columns[i])\n",
    "    temp_string = js_columns[i] + ' ' + 'href'\n",
    "    # new = final_df[js_columns[i]].str.split(\",\", n = 1, expand = True)\n",
    "    new = final_df[js_columns[i]].str.rsplit(\",\", n = 1, expand = True)\n",
    "                   \n",
    "    final_df[js_columns[i]] = new[0]\n",
    "    final_df[temp_string]= new[1] \n",
    "    \n",
    "    new_columns.append(temp_string)"
   ]
  },
  {
   "cell_type": "markdown",
   "id": "e72143a5",
   "metadata": {},
   "source": [
    "# After getting "
   ]
  },
  {
   "cell_type": "code",
   "execution_count": null,
   "id": "c54ef60e",
   "metadata": {},
   "outputs": [],
   "source": [
    "splitword = final_df[\"PDB\"].str.split(\",\", n=1, expand = True)\n",
    "final_df[\"commondescrip\"] = splitword[0]\n",
    "final_df[\"commondescrip\"]"
   ]
  },
  {
   "cell_type": "code",
   "execution_count": null,
   "id": "f4d060d0",
   "metadata": {},
   "outputs": [],
   "source": [
    "final_df"
   ]
  },
  {
   "cell_type": "code",
   "execution_count": null,
   "id": "1d9ddbfe",
   "metadata": {
    "scrolled": false
   },
   "outputs": [],
   "source": [
    "final_df.head()"
   ]
  },
  {
   "cell_type": "code",
   "execution_count": null,
   "id": "e09d16d5",
   "metadata": {
    "scrolled": false
   },
   "outputs": [],
   "source": [
    "# splitword = final_df[\"PDB\"].str.split(\",\", n=1, expand = True)\n",
    "# final_df[\"commondescrip\"] = splitword[0]\n",
    "# final_df[\"commondescrip\"]"
   ]
  },
  {
   "cell_type": "code",
   "execution_count": null,
   "id": "26539371",
   "metadata": {
    "scrolled": true
   },
   "outputs": [],
   "source": [
    "len(final_df)"
   ]
  },
  {
   "cell_type": "markdown",
   "id": "d553b3a3",
   "metadata": {},
   "source": [
    "# explode"
   ]
  },
  {
   "cell_type": "markdown",
   "id": "37abeeae",
   "metadata": {},
   "source": [
    "final_df.head(50)"
   ]
  },
  {
   "cell_type": "markdown",
   "id": "47b0a782",
   "metadata": {},
   "source": [
    "final_df.tail()"
   ]
  },
  {
   "cell_type": "code",
   "execution_count": null,
   "id": "f9fb3693",
   "metadata": {},
   "outputs": [],
   "source": [
    "#final_df.to_csv('final_df.csv')"
   ]
  },
  {
   "cell_type": "code",
   "execution_count": null,
   "id": "f30597db",
   "metadata": {},
   "outputs": [],
   "source": [
    "len(final_df)"
   ]
  },
  {
   "cell_type": "code",
   "execution_count": null,
   "id": "3c65cb73",
   "metadata": {},
   "outputs": [],
   "source": [
    "new_columns"
   ]
  },
  {
   "cell_type": "code",
   "execution_count": null,
   "id": "c6ddd19f",
   "metadata": {},
   "outputs": [],
   "source": [
    "new_columns.remove('PDB href')"
   ]
  },
  {
   "cell_type": "code",
   "execution_count": null,
   "id": "e09a2c68",
   "metadata": {},
   "outputs": [],
   "source": [
    "new_columns.remove('SCOP href')"
   ]
  },
  {
   "cell_type": "code",
   "execution_count": null,
   "id": "153b1133",
   "metadata": {},
   "outputs": [],
   "source": [
    "new_columns.remove('CATH href')"
   ]
  },
  {
   "cell_type": "code",
   "execution_count": null,
   "id": "9fbcfba3",
   "metadata": {},
   "outputs": [],
   "source": [
    "new_columns"
   ]
  },
  {
   "cell_type": "code",
   "execution_count": null,
   "id": "99a91260",
   "metadata": {},
   "outputs": [],
   "source": [
    "temp_list_href = []\n",
    "for i in range(len(new_columns)):\n",
    "    temp_list = final_df[new_columns[i]]\n",
    "    \n",
    "    headers = [item for item in temp_list if item is not None]\n",
    "    temp_list_href.append(headers[0])"
   ]
  },
  {
   "cell_type": "markdown",
   "id": "69e9245f",
   "metadata": {},
   "source": [
    "temp_list_href = temp_list_href[:2]"
   ]
  },
  {
   "cell_type": "code",
   "execution_count": null,
   "id": "6253a3e0",
   "metadata": {},
   "outputs": [],
   "source": [
    "temp_list_href"
   ]
  },
  {
   "cell_type": "code",
   "execution_count": null,
   "id": "06981098",
   "metadata": {},
   "outputs": [],
   "source": [
    "#{LINK} + 53953"
   ]
  },
  {
   "cell_type": "markdown",
   "id": "52c966bc",
   "metadata": {},
   "source": [
    "resulted_link = []\n",
    "\n",
    "for i in range(len(temp_list_href)):\n",
    "    # wait.until(EC.element_to_be_clickable((By.XPATH, '//a[contains(@href, \"%s\")]' % temp_list_href[i])))\n",
    "    links = driver.find_element(By.XPATH, '//a[contains(@href, \"%s\")]' % temp_list_href[i])\n",
    "    print(links)\n",
    "    links.click()\n",
    "    print(temp_list_href[i])\n",
    "    \n",
    "    \n",
    "    driver.switch_to.window(driver.window_handles[-1])\n",
    "    \n",
    "    print(len(driver.window_handles))\n",
    "    \n",
    "    temp_link = driver.current_url\n",
    "    resulted_link.append(temp_link)\n",
    "    \n",
    "    if(len(driver.window_handles) > 1):\n",
    "        driver.close()\n",
    "        driver.switch_to.window(driver.window_handles[0])\n",
    "        \n",
    "    if(len(driver.window_handles) == 1):\n",
    "        driver.back()\n",
    "        driver.switch_to.window(driver.window_handles[0])"
   ]
  },
  {
   "cell_type": "code",
   "execution_count": null,
   "id": "4826ced9",
   "metadata": {},
   "outputs": [],
   "source": [
    "resulted_link = ['https://www.brenda-enzymes.org/sequences.php?AC=A0A1E3MC83','https://www.brenda-enzymes.org/taxonomy.php?f[id][value]=470']"
   ]
  },
  {
   "cell_type": "code",
   "execution_count": null,
   "id": "c2f047a5",
   "metadata": {},
   "outputs": [],
   "source": [
    "len(final_df)"
   ]
  },
  {
   "cell_type": "code",
   "execution_count": null,
   "id": "217bf023",
   "metadata": {},
   "outputs": [],
   "source": [
    "final_df.head()"
   ]
  },
  {
   "cell_type": "code",
   "execution_count": null,
   "id": "e10b44a1",
   "metadata": {},
   "outputs": [],
   "source": [
    "temp_df = final_df[new_columns]"
   ]
  },
  {
   "cell_type": "code",
   "execution_count": null,
   "id": "00cbc76c",
   "metadata": {},
   "outputs": [],
   "source": [
    "len(temp_df)"
   ]
  },
  {
   "cell_type": "code",
   "execution_count": null,
   "id": "1556379b",
   "metadata": {},
   "outputs": [],
   "source": [
    "len(new_columns)"
   ]
  },
  {
   "cell_type": "code",
   "execution_count": null,
   "id": "a5fff26e",
   "metadata": {
    "scrolled": true
   },
   "outputs": [],
   "source": [
    "for i in range(len(new_columns)):\n",
    "    print(new_columns[i])\n",
    "    new_link = resulted_link[i]\n",
    "    \n",
    "    for j in range(len(temp_df)):\n",
    "        old_link = temp_df[new_columns[i]].iloc[[j]].values\n",
    "        \n",
    "        try:\n",
    "            extracted_new_link_str = re.findall(r'\\b\\d+\\b', new_link)\n",
    "            \n",
    "            extracted_old_link_str = re.findall(r\"'(.*?)'\", old_link[0], re.DOTALL) \n",
    "            \n",
    "            if not extracted_new_link_str:\n",
    "                extracted_new_link_str = new_link.split(\"=\",1)[1]\n",
    "                updated_final_link = new_link.replace(str(extracted_new_link_str), str(extracted_old_link_str[0]))\n",
    "            else:\n",
    "                updated_final_link = new_link.replace(str(extracted_new_link_str[0]), str(extracted_old_link_str[0]))\n",
    "                \n",
    "            print(f'old link: {old_link}')\n",
    "            print(f'extracted from old link: {extracted_old_link_str[0]}')\n",
    "            print(f'new link: {new_link}')\n",
    "            print(f'extracted from new link: {extracted_new_link_str[0]}') \n",
    "            \n",
    "            print(f'updated final link: {updated_final_link}')\n",
    "            print('\\n')\n",
    "            \n",
    "            temp_df[new_columns[i]].iloc[[j]]= updated_final_link\n",
    "        \n",
    "        except:\n",
    "            pass"
   ]
  },
  {
   "cell_type": "markdown",
   "id": "29dde654",
   "metadata": {},
   "source": [
    "temp_df.head()"
   ]
  },
  {
   "cell_type": "code",
   "execution_count": null,
   "id": "6bb1c6e0",
   "metadata": {},
   "outputs": [],
   "source": [
    "for i in range(len(new_columns)):\n",
    "    final_df = final_df.drop(new_columns[i], axis = 1)"
   ]
  },
  {
   "cell_type": "markdown",
   "id": "2c8c55c7",
   "metadata": {},
   "source": [
    "final_df.head()"
   ]
  },
  {
   "cell_type": "markdown",
   "id": "640b49ec",
   "metadata": {},
   "source": [
    "temp_df.tail()"
   ]
  },
  {
   "cell_type": "code",
   "execution_count": null,
   "id": "2f168dac",
   "metadata": {},
   "outputs": [],
   "source": [
    "final_df = final_df.drop_duplicates()"
   ]
  },
  {
   "cell_type": "code",
   "execution_count": null,
   "id": "abef318c",
   "metadata": {},
   "outputs": [],
   "source": [
    "diff = len(temp_df) - len(final_df)"
   ]
  },
  {
   "cell_type": "markdown",
   "id": "6776f2de",
   "metadata": {},
   "source": [
    "final_df.tail()"
   ]
  },
  {
   "cell_type": "code",
   "execution_count": null,
   "id": "48c0495b",
   "metadata": {},
   "outputs": [],
   "source": [
    "temp_df.drop(temp_df.tail(diff).index,inplace = True)"
   ]
  },
  {
   "cell_type": "code",
   "execution_count": null,
   "id": "79eca1db",
   "metadata": {},
   "outputs": [],
   "source": [
    "len(temp_df)"
   ]
  },
  {
   "cell_type": "code",
   "execution_count": null,
   "id": "a6a233fb",
   "metadata": {},
   "outputs": [],
   "source": [
    "frames = [final_df, temp_df]"
   ]
  },
  {
   "cell_type": "code",
   "execution_count": null,
   "id": "2d1da723",
   "metadata": {},
   "outputs": [],
   "source": [
    "final_df = pd.concat([final_df, temp_df], axis = 1)"
   ]
  },
  {
   "cell_type": "markdown",
   "id": "12678732",
   "metadata": {},
   "source": [
    "final_df.head()"
   ]
  },
  {
   "cell_type": "code",
   "execution_count": null,
   "id": "74d2d29d",
   "metadata": {},
   "outputs": [],
   "source": [
    "final_df.index = np.arange(1, len(final_df) + 1)"
   ]
  },
  {
   "cell_type": "code",
   "execution_count": null,
   "id": "1ab56e1a",
   "metadata": {},
   "outputs": [],
   "source": [
    "final_df.insert(loc = 0,column = 'id',value = final_df.index)"
   ]
  },
  {
   "cell_type": "code",
   "execution_count": null,
   "id": "ce8887ba",
   "metadata": {},
   "outputs": [],
   "source": [
    "final_df.insert(loc = 1,column = 'ectree',value = ectree_str)"
   ]
  },
  {
   "cell_type": "code",
   "execution_count": null,
   "id": "9e0f1e1c",
   "metadata": {},
   "outputs": [],
   "source": [
    "final_df.replace(to_replace=[None], value='-', inplace=True)"
   ]
  },
  {
   "cell_type": "code",
   "execution_count": null,
   "id": "15d3c937",
   "metadata": {},
   "outputs": [],
   "source": [
    "final_df.columns = [c.replace(\" \", \"_\") for c in final_df.columns]"
   ]
  },
  {
   "cell_type": "code",
   "execution_count": null,
   "id": "0a843493",
   "metadata": {},
   "outputs": [],
   "source": [
    "final_df.columns = [c.replace(\"(\", \"\") for c in final_df.columns]"
   ]
  },
  {
   "cell_type": "code",
   "execution_count": null,
   "id": "9f473086",
   "metadata": {},
   "outputs": [],
   "source": [
    "final_df.columns = [c.replace(\")\", \"\") for c in final_df.columns]"
   ]
  },
  {
   "cell_type": "code",
   "execution_count": null,
   "id": "4af47acf",
   "metadata": {},
   "outputs": [],
   "source": [
    "final_df.columns = [c.replace(\"?\", \"\") for c in final_df.columns]"
   ]
  },
  {
   "cell_type": "code",
   "execution_count": null,
   "id": "cece6707",
   "metadata": {},
   "outputs": [],
   "source": [
    "final_df.columns = [c.replace(\"=\", \"_equals_\") for c in final_df.columns]"
   ]
  },
  {
   "cell_type": "code",
   "execution_count": null,
   "id": "3e895aec",
   "metadata": {},
   "outputs": [],
   "source": [
    "final_df = final_df.replace('', np.NaN)\n",
    "final_df.ffill(inplace = True)"
   ]
  },
  {
   "cell_type": "code",
   "execution_count": null,
   "id": "df75d437",
   "metadata": {
    "scrolled": true
   },
   "outputs": [],
   "source": [
    "final_df"
   ]
  },
  {
   "cell_type": "code",
   "execution_count": null,
   "id": "88f1af82",
   "metadata": {},
   "outputs": [],
   "source": [
    "temp = final_df.drop(['PDB_href', 'SCOP_href','CATH_href'], axis=1)"
   ]
  },
  {
   "cell_type": "code",
   "execution_count": null,
   "id": "150d8354",
   "metadata": {},
   "outputs": [],
   "source": [
    "temp['PDB href'] = 'https://www.rcsb.org/structure/' + final_df['commondescrip'].astype(str)"
   ]
  },
  {
   "cell_type": "code",
   "execution_count": null,
   "id": "929866c5",
   "metadata": {},
   "outputs": [],
   "source": [
    "temp['SCOP href'] = 'http://scop.berkeley.edu/pdb/code=' + final_df['commondescrip'].astype(str)"
   ]
  },
  {
   "cell_type": "code",
   "execution_count": null,
   "id": "b19050be",
   "metadata": {},
   "outputs": [],
   "source": [
    "temp['CATH href'] = 'http://www.cathdb.info/pdb/' + final_df['commondescrip'].astype(str)"
   ]
  },
  {
   "cell_type": "code",
   "execution_count": null,
   "id": "a1bf9847",
   "metadata": {},
   "outputs": [],
   "source": [
    "temp['PDB 3-D href'] = 'https://www.brenda-enzymes.org/Mol/ngl/index.php?pdb='+ final_df['commondescrip'].astype(str)+'&ecno=1.1.1.1'"
   ]
  },
  {
   "cell_type": "code",
   "execution_count": null,
   "id": "34cb8dda",
   "metadata": {},
   "outputs": [],
   "source": [
    "correct  = temp.drop(['commondescrip'], axis=1)"
   ]
  },
  {
   "cell_type": "code",
   "execution_count": null,
   "id": "dc809d75",
   "metadata": {},
   "outputs": [],
   "source": [
    "#https://www.brenda-enzymes.org/Mol/ngl/index.php?pdb=1h2b&ecno=1.1.1.1"
   ]
  },
  {
   "cell_type": "code",
   "execution_count": null,
   "id": "bbdf91e4",
   "metadata": {
    "scrolled": true
   },
   "outputs": [],
   "source": [
    "correct"
   ]
  },
  {
   "cell_type": "code",
   "execution_count": null,
   "id": "390258d9",
   "metadata": {},
   "outputs": [],
   "source": [
    "correct.to_csv('PDB1.csv')"
   ]
  },
  {
   "cell_type": "markdown",
   "id": "ca54fbe9",
   "metadata": {},
   "source": [
    "#### reaction_diagram process"
   ]
  },
  {
   "cell_type": "markdown",
   "id": "aefe0d25",
   "metadata": {},
   "source": [
    "if 'REACTION_DIAGRAM' in final_df:\n",
    "    final_df['REACTION_DIAGRAM'] = final_df['REACTION_DIAGRAM_href']\n",
    "    final_df.drop('REACTION_DIAGRAM_href', axis = 1, inplace = True)"
   ]
  },
  {
   "cell_type": "code",
   "execution_count": null,
   "id": "60a08d8e",
   "metadata": {},
   "outputs": [],
   "source": [
    "len(final_df)"
   ]
  },
  {
   "cell_type": "markdown",
   "id": "34b9438e",
   "metadata": {},
   "source": [
    "final_df.head()"
   ]
  },
  {
   "cell_type": "markdown",
   "id": "9dd99010",
   "metadata": {},
   "source": [
    "final_df.to_csv('corrected_phStability.csv')"
   ]
  },
  {
   "cell_type": "markdown",
   "id": "35bd45ae",
   "metadata": {},
   "source": [
    "#### Writing on mysql"
   ]
  },
  {
   "cell_type": "code",
   "execution_count": null,
   "id": "f434139a",
   "metadata": {},
   "outputs": [],
   "source": [
    "# import mysql.connector"
   ]
  },
  {
   "cell_type": "code",
   "execution_count": null,
   "id": "7e39f268",
   "metadata": {},
   "outputs": [],
   "source": [
    "# mydb = mysql.connector.connect(host = 'quantumzyme.com', user = 'zummit_user', password = 'kZf-ih&[xV@2', database = 'qzBrenda', use_pure = True)"
   ]
  },
  {
   "cell_type": "markdown",
   "id": "c749fe78",
   "metadata": {},
   "source": [
    "#### create table string "
   ]
  },
  {
   "cell_type": "code",
   "execution_count": null,
   "id": "8cdd5d8d",
   "metadata": {},
   "outputs": [],
   "source": [
    "# import pandas as pd\n",
    "# dataframe = pd.read_csv('localization.csv')"
   ]
  },
  {
   "cell_type": "code",
   "execution_count": null,
   "id": "4c3313fe",
   "metadata": {},
   "outputs": [],
   "source": [
    "# dataframe.drop('Unnamed: 0', axis = 1, inplace = True)"
   ]
  },
  {
   "cell_type": "code",
   "execution_count": null,
   "id": "95f791e0",
   "metadata": {},
   "outputs": [],
   "source": [
    "# dataframe"
   ]
  },
  {
   "cell_type": "code",
   "execution_count": null,
   "id": "e43d39b1",
   "metadata": {},
   "outputs": [],
   "source": [
    "# final_df.columns"
   ]
  },
  {
   "cell_type": "code",
   "execution_count": null,
   "id": "0ed7040f",
   "metadata": {},
   "outputs": [],
   "source": [
    "# dataframe.drop('id', axis = 1, inplace = True)"
   ]
  },
  {
   "cell_type": "code",
   "execution_count": null,
   "id": "6887449c",
   "metadata": {},
   "outputs": [],
   "source": [
    "# dataframe"
   ]
  },
  {
   "cell_type": "code",
   "execution_count": null,
   "id": "08701b07",
   "metadata": {},
   "outputs": [],
   "source": [
    "# combined_string = []\n",
    "# for i in range(len(final_df.columns)):\n",
    "#     if(len(final_df.columns[i]) <= 64):\n",
    "#         temp_string = final_df.columns[i] + ' VARCHAR(500)'\n",
    "#         combined_string.append(temp_string) \n",
    "#     else:\n",
    "#         temp_string = final_df.columns[i][0:63] + ' VARCHAR(500)'\n",
    "#         combined_string.append(temp_string)\n",
    "    \n",
    "# combined_string_new = ', '.join(combined_string)\n",
    "# print(combined_string_new)\n",
    "# print('\\n')\n",
    "\n",
    "# create_table_string = 'CREATE TABLE IF NOT EXISTS '+ final_df.columns[1] + '(id int NOT NULL AUTO_INCREMENT, ' + combined_string_new + ', PRIMARY KEY (id))'\n",
    "# print(create_table_string)"
   ]
  },
  {
   "cell_type": "code",
   "execution_count": null,
   "id": "ae932678",
   "metadata": {},
   "outputs": [],
   "source": [
    "# mycursor = mydb.cursor()"
   ]
  },
  {
   "cell_type": "code",
   "execution_count": null,
   "id": "fcd16a49",
   "metadata": {},
   "outputs": [],
   "source": [
    "# try:\n",
    "#     mycursor.execute(create_table_string)\n",
    "\n",
    "# except:\n",
    "#     pass"
   ]
  },
  {
   "cell_type": "markdown",
   "id": "9c43b141",
   "metadata": {},
   "source": [
    "#### insert into table"
   ]
  },
  {
   "cell_type": "code",
   "execution_count": null,
   "id": "b69031d5",
   "metadata": {},
   "outputs": [],
   "source": [
    "# combined_insert_string = []\n",
    "# percent_s = []\n",
    "# percent = '%s'\n",
    "# for i in range(len(final_df.columns)):\n",
    "#     if(len(final_df.columns[i]) >= 64):\n",
    "#         combined_insert_string.append(final_df.columns[i][0:63])\n",
    "#         percent_s.append(percent)\n",
    "\n",
    "#     else:\n",
    "#         combined_insert_string.append(final_df.columns[i])\n",
    "#         percent_s.append(percent)\n",
    "\n",
    "# print(i)\n",
    "# # percent_s = percent_s[:-1]\n",
    "# percent_s = ', '.join(percent_s)\n",
    "\n",
    "# combined_insert_string = ', '.join(combined_insert_string)\n",
    "\n",
    "# insert_string = 'INSERT INTO ' + final_df.columns[1] + '(' + combined_insert_string + ') VALUES(' + percent_s  + ')'\n",
    "# print(insert_string)"
   ]
  },
  {
   "cell_type": "code",
   "execution_count": null,
   "id": "36374b8d",
   "metadata": {},
   "outputs": [],
   "source": [
    "# df_columns = []\n",
    "# for i in range(len(final_df.columns)):\n",
    "#     if(len(final_df.columns[i]) >= 64):\n",
    "#         df_columns.append(final_df.columns[i][0:63])\n",
    "#     else:\n",
    "#         df_columns.append(final_df.columns[i]) \n",
    "# df_columns"
   ]
  },
  {
   "cell_type": "code",
   "execution_count": null,
   "id": "a7aaaa45",
   "metadata": {},
   "outputs": [],
   "source": [
    "# df_columns = []\n",
    "# for i in range(len(final_df.columns)):\n",
    "#     if(len(final_df.columns[i]) >= 64):\n",
    "#         df_columns.append(final_df.columns[i][0:63])\n",
    "#     else:\n",
    "#         df_columns.append(final_df.columns[i]) \n",
    "\n",
    "# df_columns"
   ]
  },
  {
   "cell_type": "code",
   "execution_count": null,
   "id": "efe04599",
   "metadata": {
    "scrolled": true
   },
   "outputs": [],
   "source": [
    "# data = tuple(df_columns)\n",
    "# data"
   ]
  },
  {
   "cell_type": "code",
   "execution_count": null,
   "id": "16de08b4",
   "metadata": {},
   "outputs": [],
   "source": [
    "# for(row, rs) in final_df.iterrows():\n",
    "#     for i in range(len(df_columns)):\n",
    "#         print(rs[i])\n",
    "#         df_columns[i] = rs[i]\n",
    "            \n",
    "#     data = tuple(df_columns)\n",
    "#     mycursor.execute(insert_string, data)\n",
    "#     mydb.commit()"
   ]
  },
  {
   "cell_type": "code",
   "execution_count": 1,
   "id": "3f9bfa32",
   "metadata": {},
   "outputs": [],
   "source": [
    "import mysql.connector"
   ]
  },
  {
   "cell_type": "code",
   "execution_count": 2,
   "id": "d53b5b6d",
   "metadata": {},
   "outputs": [],
   "source": [
    "mydb = mysql.connector.connect(host = 'quantumzyme.com', user = 'zummit_user', password = 'kZf-ih&[xV@2', database = 'qzBrenda', use_pure = True)"
   ]
  },
  {
   "cell_type": "code",
   "execution_count": 3,
   "id": "616b8863",
   "metadata": {},
   "outputs": [],
   "source": [
    "mycursor = mydb.cursor()"
   ]
  },
  {
   "cell_type": "code",
   "execution_count": 4,
   "id": "5e106604",
   "metadata": {},
   "outputs": [],
   "source": [
    "import pandas as pd\n",
    "dataframe = pd.read_csv('PDB1.csv')"
   ]
  },
  {
   "cell_type": "code",
   "execution_count": 5,
   "id": "21e60792",
   "metadata": {},
   "outputs": [
    {
     "data": {
      "text/html": [
       "<div>\n",
       "<style scoped>\n",
       "    .dataframe tbody tr th:only-of-type {\n",
       "        vertical-align: middle;\n",
       "    }\n",
       "\n",
       "    .dataframe tbody tr th {\n",
       "        vertical-align: top;\n",
       "    }\n",
       "\n",
       "    .dataframe thead th {\n",
       "        text-align: right;\n",
       "    }\n",
       "</style>\n",
       "<table border=\"1\" class=\"dataframe\">\n",
       "  <thead>\n",
       "    <tr style=\"text-align: right;\">\n",
       "      <th></th>\n",
       "      <th>Unnamed: 0</th>\n",
       "      <th>id</th>\n",
       "      <th>ectree</th>\n",
       "      <th>PDB</th>\n",
       "      <th>SCOP</th>\n",
       "      <th>CATH</th>\n",
       "      <th>UNIPROT</th>\n",
       "      <th>ORGANISM</th>\n",
       "      <th>UNIPROT_href</th>\n",
       "      <th>ORGANISM_href</th>\n",
       "      <th>PDB_href</th>\n",
       "      <th>SCOP_href</th>\n",
       "      <th>CATH_href</th>\n",
       "      <th>PDB_3_D_href</th>\n",
       "    </tr>\n",
       "  </thead>\n",
       "  <tbody>\n",
       "    <tr>\n",
       "      <th>0</th>\n",
       "      <td>1</td>\n",
       "      <td>1</td>\n",
       "      <td>1.1.1.1</td>\n",
       "      <td>6c49, download, 3D-view</td>\n",
       "      <td>SCOPe (6c49)</td>\n",
       "      <td>CATH (6c49)</td>\n",
       "      <td>A0A1E3MC83</td>\n",
       "      <td>Acinetobacter baumannii</td>\n",
       "      <td>https://www.brenda-enzymes.org/sequences.php?A...</td>\n",
       "      <td>https://www.brenda-enzymes.org/taxonomy.php?f[...</td>\n",
       "      <td>https://www.rcsb.org/structure/6c49</td>\n",
       "      <td>http://scop.berkeley.edu/pdb/code=6c49</td>\n",
       "      <td>http://www.cathdb.info/pdb/6c49</td>\n",
       "      <td>https://www.brenda-enzymes.org/Mol/ngl/index.p...</td>\n",
       "    </tr>\n",
       "    <tr>\n",
       "      <th>1</th>\n",
       "      <td>2</td>\n",
       "      <td>2</td>\n",
       "      <td>1.1.1.1</td>\n",
       "      <td>1h2b, download, 3D-view</td>\n",
       "      <td>SCOPe (1h2b)</td>\n",
       "      <td>CATH (1h2b)</td>\n",
       "      <td>Q9Y9P9</td>\n",
       "      <td>Aeropyrum pernix</td>\n",
       "      <td>https://www.brenda-enzymes.org/sequences.php?A...</td>\n",
       "      <td>https://www.brenda-enzymes.org/taxonomy.php?f[...</td>\n",
       "      <td>https://www.rcsb.org/structure/1h2b</td>\n",
       "      <td>http://scop.berkeley.edu/pdb/code=1h2b</td>\n",
       "      <td>http://www.cathdb.info/pdb/1h2b</td>\n",
       "      <td>https://www.brenda-enzymes.org/Mol/ngl/index.p...</td>\n",
       "    </tr>\n",
       "    <tr>\n",
       "      <th>2</th>\n",
       "      <td>3</td>\n",
       "      <td>3</td>\n",
       "      <td>1.1.1.1</td>\n",
       "      <td>3uko, download, 3D-view</td>\n",
       "      <td>SCOPe (3uko)</td>\n",
       "      <td>CATH (3uko)</td>\n",
       "      <td>Q96533</td>\n",
       "      <td>Arabidopsis thaliana</td>\n",
       "      <td>https://www.brenda-enzymes.org/sequences.php?A...</td>\n",
       "      <td>https://www.brenda-enzymes.org/taxonomy.php?f[...</td>\n",
       "      <td>https://www.rcsb.org/structure/3uko</td>\n",
       "      <td>http://scop.berkeley.edu/pdb/code=3uko</td>\n",
       "      <td>http://www.cathdb.info/pdb/3uko</td>\n",
       "      <td>https://www.brenda-enzymes.org/Mol/ngl/index.p...</td>\n",
       "    </tr>\n",
       "    <tr>\n",
       "      <th>3</th>\n",
       "      <td>4</td>\n",
       "      <td>4</td>\n",
       "      <td>1.1.1.1</td>\n",
       "      <td>4gl4, download, 3D-view</td>\n",
       "      <td>SCOPe (4gl4)</td>\n",
       "      <td>CATH (4gl4)</td>\n",
       "      <td>Q96533</td>\n",
       "      <td>Arabidopsis thaliana</td>\n",
       "      <td>https://www.brenda-enzymes.org/sequences.php?A...</td>\n",
       "      <td>https://www.brenda-enzymes.org/taxonomy.php?f[...</td>\n",
       "      <td>https://www.rcsb.org/structure/4gl4</td>\n",
       "      <td>http://scop.berkeley.edu/pdb/code=4gl4</td>\n",
       "      <td>http://www.cathdb.info/pdb/4gl4</td>\n",
       "      <td>https://www.brenda-enzymes.org/Mol/ngl/index.p...</td>\n",
       "    </tr>\n",
       "    <tr>\n",
       "      <th>4</th>\n",
       "      <td>5</td>\n",
       "      <td>5</td>\n",
       "      <td>1.1.1.1</td>\n",
       "      <td>4jji, download, 3D-view</td>\n",
       "      <td>SCOPe (4jji)</td>\n",
       "      <td>CATH (4jji)</td>\n",
       "      <td>Q96533</td>\n",
       "      <td>Arabidopsis thaliana</td>\n",
       "      <td>https://www.brenda-enzymes.org/sequences.php?A...</td>\n",
       "      <td>https://www.brenda-enzymes.org/taxonomy.php?f[...</td>\n",
       "      <td>https://www.rcsb.org/structure/4jji</td>\n",
       "      <td>http://scop.berkeley.edu/pdb/code=4jji</td>\n",
       "      <td>http://www.cathdb.info/pdb/4jji</td>\n",
       "      <td>https://www.brenda-enzymes.org/Mol/ngl/index.p...</td>\n",
       "    </tr>\n",
       "    <tr>\n",
       "      <th>...</th>\n",
       "      <td>...</td>\n",
       "      <td>...</td>\n",
       "      <td>...</td>\n",
       "      <td>...</td>\n",
       "      <td>...</td>\n",
       "      <td>...</td>\n",
       "      <td>...</td>\n",
       "      <td>...</td>\n",
       "      <td>...</td>\n",
       "      <td>...</td>\n",
       "      <td>...</td>\n",
       "      <td>...</td>\n",
       "      <td>...</td>\n",
       "      <td>...</td>\n",
       "    </tr>\n",
       "    <tr>\n",
       "      <th>184</th>\n",
       "      <td>185</td>\n",
       "      <td>185</td>\n",
       "      <td>1.1.1.1</td>\n",
       "      <td>1o2d, download, 3D-view</td>\n",
       "      <td>SCOPe (1o2d)</td>\n",
       "      <td>CATH (1o2d)</td>\n",
       "      <td>Q9X022</td>\n",
       "      <td>Thermotoga maritima</td>\n",
       "      <td>https://www.brenda-enzymes.org/sequences.php?A...</td>\n",
       "      <td>https://www.brenda-enzymes.org/taxonomy.php?f[...</td>\n",
       "      <td>https://www.rcsb.org/structure/1o2d</td>\n",
       "      <td>http://scop.berkeley.edu/pdb/code=1o2d</td>\n",
       "      <td>http://www.cathdb.info/pdb/1o2d</td>\n",
       "      <td>https://www.brenda-enzymes.org/Mol/ngl/index.p...</td>\n",
       "    </tr>\n",
       "    <tr>\n",
       "      <th>185</th>\n",
       "      <td>186</td>\n",
       "      <td>186</td>\n",
       "      <td>1.1.1.1</td>\n",
       "      <td>1vj0, download, 3D-view</td>\n",
       "      <td>SCOPe (1vj0)</td>\n",
       "      <td>CATH (1vj0)</td>\n",
       "      <td>Q9WYR7</td>\n",
       "      <td>Thermotoga maritima</td>\n",
       "      <td>https://www.brenda-enzymes.org/sequences.php?A...</td>\n",
       "      <td>https://www.brenda-enzymes.org/taxonomy.php?f[...</td>\n",
       "      <td>https://www.rcsb.org/structure/1vj0</td>\n",
       "      <td>http://scop.berkeley.edu/pdb/code=1vj0</td>\n",
       "      <td>http://www.cathdb.info/pdb/1vj0</td>\n",
       "      <td>https://www.brenda-enzymes.org/Mol/ngl/index.p...</td>\n",
       "    </tr>\n",
       "    <tr>\n",
       "      <th>186</th>\n",
       "      <td>187</td>\n",
       "      <td>187</td>\n",
       "      <td>1.1.1.1</td>\n",
       "      <td>4cpd, download, 3D-view</td>\n",
       "      <td>SCOPe (4cpd)</td>\n",
       "      <td>CATH (4cpd)</td>\n",
       "      <td>B2ZRE3</td>\n",
       "      <td>Thermus sp. ATN1</td>\n",
       "      <td>https://www.brenda-enzymes.org/sequences.php?A...</td>\n",
       "      <td>https://www.brenda-enzymes.org/taxonomy.php?f[...</td>\n",
       "      <td>https://www.rcsb.org/structure/4cpd</td>\n",
       "      <td>http://scop.berkeley.edu/pdb/code=4cpd</td>\n",
       "      <td>http://www.cathdb.info/pdb/4cpd</td>\n",
       "      <td>https://www.brenda-enzymes.org/Mol/ngl/index.p...</td>\n",
       "    </tr>\n",
       "    <tr>\n",
       "      <th>187</th>\n",
       "      <td>188</td>\n",
       "      <td>188</td>\n",
       "      <td>1.1.1.1</td>\n",
       "      <td>3owo, download, 3D-view</td>\n",
       "      <td>SCOPe (3owo)</td>\n",
       "      <td>CATH (3owo)</td>\n",
       "      <td>P0DJA2</td>\n",
       "      <td>Zymomonas mobilis</td>\n",
       "      <td>https://www.brenda-enzymes.org/sequences.php?A...</td>\n",
       "      <td>https://www.brenda-enzymes.org/taxonomy.php?f[...</td>\n",
       "      <td>https://www.rcsb.org/structure/3owo</td>\n",
       "      <td>http://scop.berkeley.edu/pdb/code=3owo</td>\n",
       "      <td>http://www.cathdb.info/pdb/3owo</td>\n",
       "      <td>https://www.brenda-enzymes.org/Mol/ngl/index.p...</td>\n",
       "    </tr>\n",
       "    <tr>\n",
       "      <th>188</th>\n",
       "      <td>189</td>\n",
       "      <td>189</td>\n",
       "      <td>1.1.1.1</td>\n",
       "      <td>3ox4, download, 3D-view</td>\n",
       "      <td>SCOPe (3ox4)</td>\n",
       "      <td>CATH (3ox4)</td>\n",
       "      <td>P0DJA2</td>\n",
       "      <td>Zymomonas mobilis</td>\n",
       "      <td>https://www.brenda-enzymes.org/sequences.php?A...</td>\n",
       "      <td>https://www.brenda-enzymes.org/taxonomy.php?f[...</td>\n",
       "      <td>https://www.rcsb.org/structure/3ox4</td>\n",
       "      <td>http://scop.berkeley.edu/pdb/code=3ox4</td>\n",
       "      <td>http://www.cathdb.info/pdb/3ox4</td>\n",
       "      <td>https://www.brenda-enzymes.org/Mol/ngl/index.p...</td>\n",
       "    </tr>\n",
       "  </tbody>\n",
       "</table>\n",
       "<p>189 rows × 14 columns</p>\n",
       "</div>"
      ],
      "text/plain": [
       "     Unnamed: 0   id   ectree                      PDB          SCOP  \\\n",
       "0             1    1  1.1.1.1  6c49, download, 3D-view  SCOPe (6c49)   \n",
       "1             2    2  1.1.1.1  1h2b, download, 3D-view  SCOPe (1h2b)   \n",
       "2             3    3  1.1.1.1  3uko, download, 3D-view  SCOPe (3uko)   \n",
       "3             4    4  1.1.1.1  4gl4, download, 3D-view  SCOPe (4gl4)   \n",
       "4             5    5  1.1.1.1  4jji, download, 3D-view  SCOPe (4jji)   \n",
       "..          ...  ...      ...                      ...           ...   \n",
       "184         185  185  1.1.1.1  1o2d, download, 3D-view  SCOPe (1o2d)   \n",
       "185         186  186  1.1.1.1  1vj0, download, 3D-view  SCOPe (1vj0)   \n",
       "186         187  187  1.1.1.1  4cpd, download, 3D-view  SCOPe (4cpd)   \n",
       "187         188  188  1.1.1.1  3owo, download, 3D-view  SCOPe (3owo)   \n",
       "188         189  189  1.1.1.1  3ox4, download, 3D-view  SCOPe (3ox4)   \n",
       "\n",
       "            CATH     UNIPROT                 ORGANISM  \\\n",
       "0    CATH (6c49)  A0A1E3MC83  Acinetobacter baumannii   \n",
       "1    CATH (1h2b)      Q9Y9P9         Aeropyrum pernix   \n",
       "2    CATH (3uko)      Q96533     Arabidopsis thaliana   \n",
       "3    CATH (4gl4)      Q96533     Arabidopsis thaliana   \n",
       "4    CATH (4jji)      Q96533     Arabidopsis thaliana   \n",
       "..           ...         ...                      ...   \n",
       "184  CATH (1o2d)      Q9X022      Thermotoga maritima   \n",
       "185  CATH (1vj0)      Q9WYR7      Thermotoga maritima   \n",
       "186  CATH (4cpd)      B2ZRE3         Thermus sp. ATN1   \n",
       "187  CATH (3owo)      P0DJA2        Zymomonas mobilis   \n",
       "188  CATH (3ox4)      P0DJA2        Zymomonas mobilis   \n",
       "\n",
       "                                          UNIPROT_href  \\\n",
       "0    https://www.brenda-enzymes.org/sequences.php?A...   \n",
       "1    https://www.brenda-enzymes.org/sequences.php?A...   \n",
       "2    https://www.brenda-enzymes.org/sequences.php?A...   \n",
       "3    https://www.brenda-enzymes.org/sequences.php?A...   \n",
       "4    https://www.brenda-enzymes.org/sequences.php?A...   \n",
       "..                                                 ...   \n",
       "184  https://www.brenda-enzymes.org/sequences.php?A...   \n",
       "185  https://www.brenda-enzymes.org/sequences.php?A...   \n",
       "186  https://www.brenda-enzymes.org/sequences.php?A...   \n",
       "187  https://www.brenda-enzymes.org/sequences.php?A...   \n",
       "188  https://www.brenda-enzymes.org/sequences.php?A...   \n",
       "\n",
       "                                         ORGANISM_href  \\\n",
       "0    https://www.brenda-enzymes.org/taxonomy.php?f[...   \n",
       "1    https://www.brenda-enzymes.org/taxonomy.php?f[...   \n",
       "2    https://www.brenda-enzymes.org/taxonomy.php?f[...   \n",
       "3    https://www.brenda-enzymes.org/taxonomy.php?f[...   \n",
       "4    https://www.brenda-enzymes.org/taxonomy.php?f[...   \n",
       "..                                                 ...   \n",
       "184  https://www.brenda-enzymes.org/taxonomy.php?f[...   \n",
       "185  https://www.brenda-enzymes.org/taxonomy.php?f[...   \n",
       "186  https://www.brenda-enzymes.org/taxonomy.php?f[...   \n",
       "187  https://www.brenda-enzymes.org/taxonomy.php?f[...   \n",
       "188  https://www.brenda-enzymes.org/taxonomy.php?f[...   \n",
       "\n",
       "                                PDB_href  \\\n",
       "0    https://www.rcsb.org/structure/6c49   \n",
       "1    https://www.rcsb.org/structure/1h2b   \n",
       "2    https://www.rcsb.org/structure/3uko   \n",
       "3    https://www.rcsb.org/structure/4gl4   \n",
       "4    https://www.rcsb.org/structure/4jji   \n",
       "..                                   ...   \n",
       "184  https://www.rcsb.org/structure/1o2d   \n",
       "185  https://www.rcsb.org/structure/1vj0   \n",
       "186  https://www.rcsb.org/structure/4cpd   \n",
       "187  https://www.rcsb.org/structure/3owo   \n",
       "188  https://www.rcsb.org/structure/3ox4   \n",
       "\n",
       "                                  SCOP_href                        CATH_href  \\\n",
       "0    http://scop.berkeley.edu/pdb/code=6c49  http://www.cathdb.info/pdb/6c49   \n",
       "1    http://scop.berkeley.edu/pdb/code=1h2b  http://www.cathdb.info/pdb/1h2b   \n",
       "2    http://scop.berkeley.edu/pdb/code=3uko  http://www.cathdb.info/pdb/3uko   \n",
       "3    http://scop.berkeley.edu/pdb/code=4gl4  http://www.cathdb.info/pdb/4gl4   \n",
       "4    http://scop.berkeley.edu/pdb/code=4jji  http://www.cathdb.info/pdb/4jji   \n",
       "..                                      ...                              ...   \n",
       "184  http://scop.berkeley.edu/pdb/code=1o2d  http://www.cathdb.info/pdb/1o2d   \n",
       "185  http://scop.berkeley.edu/pdb/code=1vj0  http://www.cathdb.info/pdb/1vj0   \n",
       "186  http://scop.berkeley.edu/pdb/code=4cpd  http://www.cathdb.info/pdb/4cpd   \n",
       "187  http://scop.berkeley.edu/pdb/code=3owo  http://www.cathdb.info/pdb/3owo   \n",
       "188  http://scop.berkeley.edu/pdb/code=3ox4  http://www.cathdb.info/pdb/3ox4   \n",
       "\n",
       "                                          PDB_3_D_href  \n",
       "0    https://www.brenda-enzymes.org/Mol/ngl/index.p...  \n",
       "1    https://www.brenda-enzymes.org/Mol/ngl/index.p...  \n",
       "2    https://www.brenda-enzymes.org/Mol/ngl/index.p...  \n",
       "3    https://www.brenda-enzymes.org/Mol/ngl/index.p...  \n",
       "4    https://www.brenda-enzymes.org/Mol/ngl/index.p...  \n",
       "..                                                 ...  \n",
       "184  https://www.brenda-enzymes.org/Mol/ngl/index.p...  \n",
       "185  https://www.brenda-enzymes.org/Mol/ngl/index.p...  \n",
       "186  https://www.brenda-enzymes.org/Mol/ngl/index.p...  \n",
       "187  https://www.brenda-enzymes.org/Mol/ngl/index.p...  \n",
       "188  https://www.brenda-enzymes.org/Mol/ngl/index.p...  \n",
       "\n",
       "[189 rows x 14 columns]"
      ]
     },
     "execution_count": 5,
     "metadata": {},
     "output_type": "execute_result"
    }
   ],
   "source": [
    "dataframe"
   ]
  },
  {
   "cell_type": "code",
   "execution_count": 6,
   "id": "f0cf18c1",
   "metadata": {},
   "outputs": [],
   "source": [
    "dataframe.drop(['Unnamed: 0','id'], axis = 1, inplace = True)"
   ]
  },
  {
   "cell_type": "code",
   "execution_count": 7,
   "id": "1ee0e711",
   "metadata": {},
   "outputs": [
    {
     "data": {
      "text/html": [
       "<div>\n",
       "<style scoped>\n",
       "    .dataframe tbody tr th:only-of-type {\n",
       "        vertical-align: middle;\n",
       "    }\n",
       "\n",
       "    .dataframe tbody tr th {\n",
       "        vertical-align: top;\n",
       "    }\n",
       "\n",
       "    .dataframe thead th {\n",
       "        text-align: right;\n",
       "    }\n",
       "</style>\n",
       "<table border=\"1\" class=\"dataframe\">\n",
       "  <thead>\n",
       "    <tr style=\"text-align: right;\">\n",
       "      <th></th>\n",
       "      <th>ectree</th>\n",
       "      <th>PDB</th>\n",
       "      <th>SCOP</th>\n",
       "      <th>CATH</th>\n",
       "      <th>UNIPROT</th>\n",
       "      <th>ORGANISM</th>\n",
       "      <th>UNIPROT_href</th>\n",
       "      <th>ORGANISM_href</th>\n",
       "      <th>PDB_href</th>\n",
       "      <th>SCOP_href</th>\n",
       "      <th>CATH_href</th>\n",
       "      <th>PDB_3_D_href</th>\n",
       "    </tr>\n",
       "  </thead>\n",
       "  <tbody>\n",
       "    <tr>\n",
       "      <th>0</th>\n",
       "      <td>1.1.1.1</td>\n",
       "      <td>6c49, download, 3D-view</td>\n",
       "      <td>SCOPe (6c49)</td>\n",
       "      <td>CATH (6c49)</td>\n",
       "      <td>A0A1E3MC83</td>\n",
       "      <td>Acinetobacter baumannii</td>\n",
       "      <td>https://www.brenda-enzymes.org/sequences.php?A...</td>\n",
       "      <td>https://www.brenda-enzymes.org/taxonomy.php?f[...</td>\n",
       "      <td>https://www.rcsb.org/structure/6c49</td>\n",
       "      <td>http://scop.berkeley.edu/pdb/code=6c49</td>\n",
       "      <td>http://www.cathdb.info/pdb/6c49</td>\n",
       "      <td>https://www.brenda-enzymes.org/Mol/ngl/index.p...</td>\n",
       "    </tr>\n",
       "    <tr>\n",
       "      <th>1</th>\n",
       "      <td>1.1.1.1</td>\n",
       "      <td>1h2b, download, 3D-view</td>\n",
       "      <td>SCOPe (1h2b)</td>\n",
       "      <td>CATH (1h2b)</td>\n",
       "      <td>Q9Y9P9</td>\n",
       "      <td>Aeropyrum pernix</td>\n",
       "      <td>https://www.brenda-enzymes.org/sequences.php?A...</td>\n",
       "      <td>https://www.brenda-enzymes.org/taxonomy.php?f[...</td>\n",
       "      <td>https://www.rcsb.org/structure/1h2b</td>\n",
       "      <td>http://scop.berkeley.edu/pdb/code=1h2b</td>\n",
       "      <td>http://www.cathdb.info/pdb/1h2b</td>\n",
       "      <td>https://www.brenda-enzymes.org/Mol/ngl/index.p...</td>\n",
       "    </tr>\n",
       "    <tr>\n",
       "      <th>2</th>\n",
       "      <td>1.1.1.1</td>\n",
       "      <td>3uko, download, 3D-view</td>\n",
       "      <td>SCOPe (3uko)</td>\n",
       "      <td>CATH (3uko)</td>\n",
       "      <td>Q96533</td>\n",
       "      <td>Arabidopsis thaliana</td>\n",
       "      <td>https://www.brenda-enzymes.org/sequences.php?A...</td>\n",
       "      <td>https://www.brenda-enzymes.org/taxonomy.php?f[...</td>\n",
       "      <td>https://www.rcsb.org/structure/3uko</td>\n",
       "      <td>http://scop.berkeley.edu/pdb/code=3uko</td>\n",
       "      <td>http://www.cathdb.info/pdb/3uko</td>\n",
       "      <td>https://www.brenda-enzymes.org/Mol/ngl/index.p...</td>\n",
       "    </tr>\n",
       "    <tr>\n",
       "      <th>3</th>\n",
       "      <td>1.1.1.1</td>\n",
       "      <td>4gl4, download, 3D-view</td>\n",
       "      <td>SCOPe (4gl4)</td>\n",
       "      <td>CATH (4gl4)</td>\n",
       "      <td>Q96533</td>\n",
       "      <td>Arabidopsis thaliana</td>\n",
       "      <td>https://www.brenda-enzymes.org/sequences.php?A...</td>\n",
       "      <td>https://www.brenda-enzymes.org/taxonomy.php?f[...</td>\n",
       "      <td>https://www.rcsb.org/structure/4gl4</td>\n",
       "      <td>http://scop.berkeley.edu/pdb/code=4gl4</td>\n",
       "      <td>http://www.cathdb.info/pdb/4gl4</td>\n",
       "      <td>https://www.brenda-enzymes.org/Mol/ngl/index.p...</td>\n",
       "    </tr>\n",
       "    <tr>\n",
       "      <th>4</th>\n",
       "      <td>1.1.1.1</td>\n",
       "      <td>4jji, download, 3D-view</td>\n",
       "      <td>SCOPe (4jji)</td>\n",
       "      <td>CATH (4jji)</td>\n",
       "      <td>Q96533</td>\n",
       "      <td>Arabidopsis thaliana</td>\n",
       "      <td>https://www.brenda-enzymes.org/sequences.php?A...</td>\n",
       "      <td>https://www.brenda-enzymes.org/taxonomy.php?f[...</td>\n",
       "      <td>https://www.rcsb.org/structure/4jji</td>\n",
       "      <td>http://scop.berkeley.edu/pdb/code=4jji</td>\n",
       "      <td>http://www.cathdb.info/pdb/4jji</td>\n",
       "      <td>https://www.brenda-enzymes.org/Mol/ngl/index.p...</td>\n",
       "    </tr>\n",
       "    <tr>\n",
       "      <th>...</th>\n",
       "      <td>...</td>\n",
       "      <td>...</td>\n",
       "      <td>...</td>\n",
       "      <td>...</td>\n",
       "      <td>...</td>\n",
       "      <td>...</td>\n",
       "      <td>...</td>\n",
       "      <td>...</td>\n",
       "      <td>...</td>\n",
       "      <td>...</td>\n",
       "      <td>...</td>\n",
       "      <td>...</td>\n",
       "    </tr>\n",
       "    <tr>\n",
       "      <th>184</th>\n",
       "      <td>1.1.1.1</td>\n",
       "      <td>1o2d, download, 3D-view</td>\n",
       "      <td>SCOPe (1o2d)</td>\n",
       "      <td>CATH (1o2d)</td>\n",
       "      <td>Q9X022</td>\n",
       "      <td>Thermotoga maritima</td>\n",
       "      <td>https://www.brenda-enzymes.org/sequences.php?A...</td>\n",
       "      <td>https://www.brenda-enzymes.org/taxonomy.php?f[...</td>\n",
       "      <td>https://www.rcsb.org/structure/1o2d</td>\n",
       "      <td>http://scop.berkeley.edu/pdb/code=1o2d</td>\n",
       "      <td>http://www.cathdb.info/pdb/1o2d</td>\n",
       "      <td>https://www.brenda-enzymes.org/Mol/ngl/index.p...</td>\n",
       "    </tr>\n",
       "    <tr>\n",
       "      <th>185</th>\n",
       "      <td>1.1.1.1</td>\n",
       "      <td>1vj0, download, 3D-view</td>\n",
       "      <td>SCOPe (1vj0)</td>\n",
       "      <td>CATH (1vj0)</td>\n",
       "      <td>Q9WYR7</td>\n",
       "      <td>Thermotoga maritima</td>\n",
       "      <td>https://www.brenda-enzymes.org/sequences.php?A...</td>\n",
       "      <td>https://www.brenda-enzymes.org/taxonomy.php?f[...</td>\n",
       "      <td>https://www.rcsb.org/structure/1vj0</td>\n",
       "      <td>http://scop.berkeley.edu/pdb/code=1vj0</td>\n",
       "      <td>http://www.cathdb.info/pdb/1vj0</td>\n",
       "      <td>https://www.brenda-enzymes.org/Mol/ngl/index.p...</td>\n",
       "    </tr>\n",
       "    <tr>\n",
       "      <th>186</th>\n",
       "      <td>1.1.1.1</td>\n",
       "      <td>4cpd, download, 3D-view</td>\n",
       "      <td>SCOPe (4cpd)</td>\n",
       "      <td>CATH (4cpd)</td>\n",
       "      <td>B2ZRE3</td>\n",
       "      <td>Thermus sp. ATN1</td>\n",
       "      <td>https://www.brenda-enzymes.org/sequences.php?A...</td>\n",
       "      <td>https://www.brenda-enzymes.org/taxonomy.php?f[...</td>\n",
       "      <td>https://www.rcsb.org/structure/4cpd</td>\n",
       "      <td>http://scop.berkeley.edu/pdb/code=4cpd</td>\n",
       "      <td>http://www.cathdb.info/pdb/4cpd</td>\n",
       "      <td>https://www.brenda-enzymes.org/Mol/ngl/index.p...</td>\n",
       "    </tr>\n",
       "    <tr>\n",
       "      <th>187</th>\n",
       "      <td>1.1.1.1</td>\n",
       "      <td>3owo, download, 3D-view</td>\n",
       "      <td>SCOPe (3owo)</td>\n",
       "      <td>CATH (3owo)</td>\n",
       "      <td>P0DJA2</td>\n",
       "      <td>Zymomonas mobilis</td>\n",
       "      <td>https://www.brenda-enzymes.org/sequences.php?A...</td>\n",
       "      <td>https://www.brenda-enzymes.org/taxonomy.php?f[...</td>\n",
       "      <td>https://www.rcsb.org/structure/3owo</td>\n",
       "      <td>http://scop.berkeley.edu/pdb/code=3owo</td>\n",
       "      <td>http://www.cathdb.info/pdb/3owo</td>\n",
       "      <td>https://www.brenda-enzymes.org/Mol/ngl/index.p...</td>\n",
       "    </tr>\n",
       "    <tr>\n",
       "      <th>188</th>\n",
       "      <td>1.1.1.1</td>\n",
       "      <td>3ox4, download, 3D-view</td>\n",
       "      <td>SCOPe (3ox4)</td>\n",
       "      <td>CATH (3ox4)</td>\n",
       "      <td>P0DJA2</td>\n",
       "      <td>Zymomonas mobilis</td>\n",
       "      <td>https://www.brenda-enzymes.org/sequences.php?A...</td>\n",
       "      <td>https://www.brenda-enzymes.org/taxonomy.php?f[...</td>\n",
       "      <td>https://www.rcsb.org/structure/3ox4</td>\n",
       "      <td>http://scop.berkeley.edu/pdb/code=3ox4</td>\n",
       "      <td>http://www.cathdb.info/pdb/3ox4</td>\n",
       "      <td>https://www.brenda-enzymes.org/Mol/ngl/index.p...</td>\n",
       "    </tr>\n",
       "  </tbody>\n",
       "</table>\n",
       "<p>189 rows × 12 columns</p>\n",
       "</div>"
      ],
      "text/plain": [
       "      ectree                      PDB          SCOP         CATH     UNIPROT  \\\n",
       "0    1.1.1.1  6c49, download, 3D-view  SCOPe (6c49)  CATH (6c49)  A0A1E3MC83   \n",
       "1    1.1.1.1  1h2b, download, 3D-view  SCOPe (1h2b)  CATH (1h2b)      Q9Y9P9   \n",
       "2    1.1.1.1  3uko, download, 3D-view  SCOPe (3uko)  CATH (3uko)      Q96533   \n",
       "3    1.1.1.1  4gl4, download, 3D-view  SCOPe (4gl4)  CATH (4gl4)      Q96533   \n",
       "4    1.1.1.1  4jji, download, 3D-view  SCOPe (4jji)  CATH (4jji)      Q96533   \n",
       "..       ...                      ...           ...          ...         ...   \n",
       "184  1.1.1.1  1o2d, download, 3D-view  SCOPe (1o2d)  CATH (1o2d)      Q9X022   \n",
       "185  1.1.1.1  1vj0, download, 3D-view  SCOPe (1vj0)  CATH (1vj0)      Q9WYR7   \n",
       "186  1.1.1.1  4cpd, download, 3D-view  SCOPe (4cpd)  CATH (4cpd)      B2ZRE3   \n",
       "187  1.1.1.1  3owo, download, 3D-view  SCOPe (3owo)  CATH (3owo)      P0DJA2   \n",
       "188  1.1.1.1  3ox4, download, 3D-view  SCOPe (3ox4)  CATH (3ox4)      P0DJA2   \n",
       "\n",
       "                    ORGANISM  \\\n",
       "0    Acinetobacter baumannii   \n",
       "1           Aeropyrum pernix   \n",
       "2       Arabidopsis thaliana   \n",
       "3       Arabidopsis thaliana   \n",
       "4       Arabidopsis thaliana   \n",
       "..                       ...   \n",
       "184      Thermotoga maritima   \n",
       "185      Thermotoga maritima   \n",
       "186         Thermus sp. ATN1   \n",
       "187        Zymomonas mobilis   \n",
       "188        Zymomonas mobilis   \n",
       "\n",
       "                                          UNIPROT_href  \\\n",
       "0    https://www.brenda-enzymes.org/sequences.php?A...   \n",
       "1    https://www.brenda-enzymes.org/sequences.php?A...   \n",
       "2    https://www.brenda-enzymes.org/sequences.php?A...   \n",
       "3    https://www.brenda-enzymes.org/sequences.php?A...   \n",
       "4    https://www.brenda-enzymes.org/sequences.php?A...   \n",
       "..                                                 ...   \n",
       "184  https://www.brenda-enzymes.org/sequences.php?A...   \n",
       "185  https://www.brenda-enzymes.org/sequences.php?A...   \n",
       "186  https://www.brenda-enzymes.org/sequences.php?A...   \n",
       "187  https://www.brenda-enzymes.org/sequences.php?A...   \n",
       "188  https://www.brenda-enzymes.org/sequences.php?A...   \n",
       "\n",
       "                                         ORGANISM_href  \\\n",
       "0    https://www.brenda-enzymes.org/taxonomy.php?f[...   \n",
       "1    https://www.brenda-enzymes.org/taxonomy.php?f[...   \n",
       "2    https://www.brenda-enzymes.org/taxonomy.php?f[...   \n",
       "3    https://www.brenda-enzymes.org/taxonomy.php?f[...   \n",
       "4    https://www.brenda-enzymes.org/taxonomy.php?f[...   \n",
       "..                                                 ...   \n",
       "184  https://www.brenda-enzymes.org/taxonomy.php?f[...   \n",
       "185  https://www.brenda-enzymes.org/taxonomy.php?f[...   \n",
       "186  https://www.brenda-enzymes.org/taxonomy.php?f[...   \n",
       "187  https://www.brenda-enzymes.org/taxonomy.php?f[...   \n",
       "188  https://www.brenda-enzymes.org/taxonomy.php?f[...   \n",
       "\n",
       "                                PDB_href  \\\n",
       "0    https://www.rcsb.org/structure/6c49   \n",
       "1    https://www.rcsb.org/structure/1h2b   \n",
       "2    https://www.rcsb.org/structure/3uko   \n",
       "3    https://www.rcsb.org/structure/4gl4   \n",
       "4    https://www.rcsb.org/structure/4jji   \n",
       "..                                   ...   \n",
       "184  https://www.rcsb.org/structure/1o2d   \n",
       "185  https://www.rcsb.org/structure/1vj0   \n",
       "186  https://www.rcsb.org/structure/4cpd   \n",
       "187  https://www.rcsb.org/structure/3owo   \n",
       "188  https://www.rcsb.org/structure/3ox4   \n",
       "\n",
       "                                  SCOP_href                        CATH_href  \\\n",
       "0    http://scop.berkeley.edu/pdb/code=6c49  http://www.cathdb.info/pdb/6c49   \n",
       "1    http://scop.berkeley.edu/pdb/code=1h2b  http://www.cathdb.info/pdb/1h2b   \n",
       "2    http://scop.berkeley.edu/pdb/code=3uko  http://www.cathdb.info/pdb/3uko   \n",
       "3    http://scop.berkeley.edu/pdb/code=4gl4  http://www.cathdb.info/pdb/4gl4   \n",
       "4    http://scop.berkeley.edu/pdb/code=4jji  http://www.cathdb.info/pdb/4jji   \n",
       "..                                      ...                              ...   \n",
       "184  http://scop.berkeley.edu/pdb/code=1o2d  http://www.cathdb.info/pdb/1o2d   \n",
       "185  http://scop.berkeley.edu/pdb/code=1vj0  http://www.cathdb.info/pdb/1vj0   \n",
       "186  http://scop.berkeley.edu/pdb/code=4cpd  http://www.cathdb.info/pdb/4cpd   \n",
       "187  http://scop.berkeley.edu/pdb/code=3owo  http://www.cathdb.info/pdb/3owo   \n",
       "188  http://scop.berkeley.edu/pdb/code=3ox4  http://www.cathdb.info/pdb/3ox4   \n",
       "\n",
       "                                          PDB_3_D_href  \n",
       "0    https://www.brenda-enzymes.org/Mol/ngl/index.p...  \n",
       "1    https://www.brenda-enzymes.org/Mol/ngl/index.p...  \n",
       "2    https://www.brenda-enzymes.org/Mol/ngl/index.p...  \n",
       "3    https://www.brenda-enzymes.org/Mol/ngl/index.p...  \n",
       "4    https://www.brenda-enzymes.org/Mol/ngl/index.p...  \n",
       "..                                                 ...  \n",
       "184  https://www.brenda-enzymes.org/Mol/ngl/index.p...  \n",
       "185  https://www.brenda-enzymes.org/Mol/ngl/index.p...  \n",
       "186  https://www.brenda-enzymes.org/Mol/ngl/index.p...  \n",
       "187  https://www.brenda-enzymes.org/Mol/ngl/index.p...  \n",
       "188  https://www.brenda-enzymes.org/Mol/ngl/index.p...  \n",
       "\n",
       "[189 rows x 12 columns]"
      ]
     },
     "execution_count": 7,
     "metadata": {},
     "output_type": "execute_result"
    }
   ],
   "source": [
    "dataframe"
   ]
  },
  {
   "cell_type": "code",
   "execution_count": 8,
   "id": "f5394b09",
   "metadata": {},
   "outputs": [],
   "source": [
    "for(row, rs) in dataframe.iterrows():\n",
    "    ectree= rs[0]\n",
    "    PDB= rs[1]\n",
    "    SCOP  = rs[2]\n",
    "    CATH = rs[3]\n",
    "    UNIPROT = rs[4]\n",
    "    ORGANISM = rs[5]\n",
    "    UNIPROT_href = rs[6]\n",
    "    ORGANISM_href = rs[7]\n",
    "    PDB_href= rs[8]\n",
    "    SCOP_href = rs[9]\n",
    "    CATH_href = rs[10]\n",
    "    PDB_3_D_href = rs[11]\n",
    "    \n",
    "    insert_query = \"INSERT INTO qzBrenda.PDB_and_Structure_Links(ectree, PDB,SCOP,CATH, UNIPROT,ORGANISM,UNIPROT_href,ORGANISM_href,PDB_href,SCOP_href,CATH_href,PDB_3_D_href) VALUES( %s, %s, %s, %s, %s,%s,%s,%s,%s,%s,%s,%s)\"\n",
    "    data = (ectree, PDB,SCOP,CATH, UNIPROT,ORGANISM,UNIPROT_href,ORGANISM_href,PDB_href,SCOP_href,CATH_href,PDB_3_D_href)\n",
    "    \n",
    "    mycursor.execute(insert_query, data)\n",
    "    mydb.commit()"
   ]
  },
  {
   "cell_type": "code",
   "execution_count": 9,
   "id": "fd47fd61",
   "metadata": {},
   "outputs": [],
   "source": [
    "# for(row, rs) in dataframe.iterrows():\n",
    "#     ectree= rs[0]\n",
    "#     PDB= rs[1]\n",
    "#     SCOP  = rs[2]\n",
    "#     CATH = rs[3]\n",
    "#     UNIPROT = rs[4]\n",
    "#     ORGANISM = rs[5]\n",
    "#     UNIPROT_href = rs[6]\n",
    "#     ORGANISM_href = rs[7]\n",
    "#     PDB_href= rs[8]\n",
    "#     SCOP_href = rs[9]\n",
    "#     CATH_href = rs[10]\n",
    "#     PDB_3_D_href = rs[11]\n",
    "    \n",
    "#     insert_query = \"INSERT INTO qzBrenda.PDB_and_Structure_Links(ectree, PDB,SCOP,CATH, UNIPROT,ORGANISM,UNIPROT_href,ORGANISM_href,PDB_href,SCOP_href,CATH_href,PDB_3_D_href) VALUES( %s, %s, %s, %s, %s,%s,%s,%s,%s,%s,%s,%s)\"\n",
    "#     data = (ectree, PDB,SCOP,CATH, UNIPROT,ORGANISM,UNIPROT_href,ORGANISM_href,PDB_href,SCOP_href,CATH_href,PDB_3_D_href)\n",
    "    \n",
    "#     mycursor.execute(insert_query, data)\n",
    "#     mydb.commit()"
   ]
  },
  {
   "cell_type": "code",
   "execution_count": null,
   "id": "ed84ff8a",
   "metadata": {},
   "outputs": [],
   "source": [
    "# mydb.close()"
   ]
  },
  {
   "cell_type": "code",
   "execution_count": null,
   "id": "b4a9d1d7",
   "metadata": {},
   "outputs": [],
   "source": []
  }
 ],
 "metadata": {
  "kernelspec": {
   "display_name": "Python 3 (ipykernel)",
   "language": "python",
   "name": "python3"
  },
  "language_info": {
   "codemirror_mode": {
    "name": "ipython",
    "version": 3
   },
   "file_extension": ".py",
   "mimetype": "text/x-python",
   "name": "python",
   "nbconvert_exporter": "python",
   "pygments_lexer": "ipython3",
   "version": "3.9.13"
  },
  "vscode": {
   "interpreter": {
    "hash": "96a1436f19fdc32bb242690d059cc6a4e52babc087a5b00895f16f81d4cdc4be"
   }
  }
 },
 "nbformat": 4,
 "nbformat_minor": 5
}
